{
 "cells": [
  {
   "cell_type": "code",
   "execution_count": 65,
   "id": "889d87c2",
   "metadata": {
    "scrolled": true
   },
   "outputs": [],
   "source": [
    "import ast\n",
    "import pandas as pd\n",
    "import numpy as np\n",
    "import sklearn\n",
    "#import joblib\n",
    "from sklearn.model_selection import train_test_split\n",
    "#from sklearn.neural_network import MLPRegressor\n",
    "#from sklearn.linear_model import LinearRegression\n",
    "from sklearn.model_selection import cross_validate\n",
    "from sklearn.model_selection import RepeatedKFold, GridSearchCV\n",
    "from sklearn import preprocessing, decomposition, manifold\n",
    "from sklearn.discriminant_analysis import LinearDiscriminantAnalysis\n",
    "from sklearn.preprocessing import StandardScaler\n",
    "\n",
    "#plotting\n",
    "import matplotlib\n",
    "import matplotlib.pyplot as plt\n",
    "\n",
    "#3d plotting\n",
    "from mpl_toolkits.mplot3d import Axes3D\n",
    "#%matplotlib qt\n",
    "#plt.ion()"
   ]
  },
  {
   "cell_type": "markdown",
   "id": "632c4bf1",
   "metadata": {},
   "source": [
    "# Load dataset"
   ]
  },
  {
   "cell_type": "code",
   "execution_count": 66,
   "id": "4c78640c",
   "metadata": {
    "scrolled": true
   },
   "outputs": [
    {
     "data": {
      "text/html": [
       "<div>\n",
       "<style scoped>\n",
       "    .dataframe tbody tr th:only-of-type {\n",
       "        vertical-align: middle;\n",
       "    }\n",
       "\n",
       "    .dataframe tbody tr th {\n",
       "        vertical-align: top;\n",
       "    }\n",
       "\n",
       "    .dataframe thead th {\n",
       "        text-align: right;\n",
       "    }\n",
       "</style>\n",
       "<table border=\"1\" class=\"dataframe\">\n",
       "  <thead>\n",
       "    <tr style=\"text-align: right;\">\n",
       "      <th></th>\n",
       "      <th>id</th>\n",
       "      <th>name</th>\n",
       "      <th>range</th>\n",
       "      <th>rating</th>\n",
       "      <th>id_copy</th>\n",
       "      <th>energy</th>\n",
       "      <th>danceability</th>\n",
       "      <th>loudness</th>\n",
       "      <th>valence</th>\n",
       "      <th>tempo</th>\n",
       "      <th>speechiness</th>\n",
       "      <th>acousticness</th>\n",
       "      <th>instrumentalness</th>\n",
       "      <th>duration_ms</th>\n",
       "      <th>time_signature</th>\n",
       "      <th>pitch_avg</th>\n",
       "      <th>timbre_avg</th>\n",
       "      <th>key_change_percentage</th>\n",
       "      <th>mode_avg</th>\n",
       "      <th>id_copy_2</th>\n",
       "    </tr>\n",
       "  </thead>\n",
       "  <tbody>\n",
       "    <tr>\n",
       "      <th>0</th>\n",
       "      <td>7L5IwfKB6W0tadcSh9wlyH</td>\n",
       "      <td>Ouverture</td>\n",
       "      <td>short_term</td>\n",
       "      <td>5.393939</td>\n",
       "      <td>7L5IwfKB6W0tadcSh9wlyH</td>\n",
       "      <td>0.3360</td>\n",
       "      <td>0.4960</td>\n",
       "      <td>-19.440</td>\n",
       "      <td>0.1850</td>\n",
       "      <td>129.006</td>\n",
       "      <td>0.0513</td>\n",
       "      <td>0.95500</td>\n",
       "      <td>0.912000</td>\n",
       "      <td>322173</td>\n",
       "      <td>4</td>\n",
       "      <td>[0.27, 0.58, 0.21, 0.27, 0.18, 0.34, 0.26, 0.0...</td>\n",
       "      <td>[36.4, -140.17, -20.32, -18.11, 13.38, -37.86,...</td>\n",
       "      <td>75.000000</td>\n",
       "      <td>0.14</td>\n",
       "      <td>7L5IwfKB6W0tadcSh9wlyH</td>\n",
       "    </tr>\n",
       "    <tr>\n",
       "      <th>1</th>\n",
       "      <td>0tAZi3X7dUdd7m8OXB8pMA</td>\n",
       "      <td>Shadow</td>\n",
       "      <td>short_term</td>\n",
       "      <td>5.272727</td>\n",
       "      <td>0tAZi3X7dUdd7m8OXB8pMA</td>\n",
       "      <td>0.2750</td>\n",
       "      <td>0.0832</td>\n",
       "      <td>-15.256</td>\n",
       "      <td>0.0334</td>\n",
       "      <td>170.316</td>\n",
       "      <td>0.0347</td>\n",
       "      <td>0.88700</td>\n",
       "      <td>0.853000</td>\n",
       "      <td>558267</td>\n",
       "      <td>1</td>\n",
       "      <td>[0.18, 0.26, 0.64, 0.5, 0.16, 0.26, 0.16, 0.21...</td>\n",
       "      <td>[40.29, -65.03, 29.6, -16.94, 3.88, -26.49, -1...</td>\n",
       "      <td>93.333333</td>\n",
       "      <td>0.86</td>\n",
       "      <td>0tAZi3X7dUdd7m8OXB8pMA</td>\n",
       "    </tr>\n",
       "    <tr>\n",
       "      <th>2</th>\n",
       "      <td>1XMDIKQbV30WJPKLMN6MKv</td>\n",
       "      <td>INSTRUCTION</td>\n",
       "      <td>short_term</td>\n",
       "      <td>4.969697</td>\n",
       "      <td>1XMDIKQbV30WJPKLMN6MKv</td>\n",
       "      <td>0.3550</td>\n",
       "      <td>0.4910</td>\n",
       "      <td>-12.480</td>\n",
       "      <td>0.0369</td>\n",
       "      <td>145.405</td>\n",
       "      <td>0.0354</td>\n",
       "      <td>0.38200</td>\n",
       "      <td>0.887000</td>\n",
       "      <td>262733</td>\n",
       "      <td>4</td>\n",
       "      <td>[0.51, 0.26, 0.22, 0.12, 0.12, 0.2, 0.21, 0.39...</td>\n",
       "      <td>[38.23, -65.25, -37.01, -15.68, 9.7, -36.31, 2...</td>\n",
       "      <td>75.000000</td>\n",
       "      <td>0.36</td>\n",
       "      <td>1XMDIKQbV30WJPKLMN6MKv</td>\n",
       "    </tr>\n",
       "    <tr>\n",
       "      <th>3</th>\n",
       "      <td>1XZdwzd8DTDvkjVc0eJ9BI</td>\n",
       "      <td>Wildlife Analysis</td>\n",
       "      <td>short_term</td>\n",
       "      <td>4.909091</td>\n",
       "      <td>1XZdwzd8DTDvkjVc0eJ9BI</td>\n",
       "      <td>0.0204</td>\n",
       "      <td>0.1550</td>\n",
       "      <td>-31.212</td>\n",
       "      <td>0.2780</td>\n",
       "      <td>79.755</td>\n",
       "      <td>0.0462</td>\n",
       "      <td>0.99500</td>\n",
       "      <td>0.936000</td>\n",
       "      <td>75627</td>\n",
       "      <td>4</td>\n",
       "      <td>[0.12, 0.06, 0.43, 0.1, 0.56, 0.08, 0.08, 0.16...</td>\n",
       "      <td>[28.95, -181.05, 81.47, 3.86, 94.46, -38.57, -...</td>\n",
       "      <td>0.000000</td>\n",
       "      <td>0.33</td>\n",
       "      <td>1XZdwzd8DTDvkjVc0eJ9BI</td>\n",
       "    </tr>\n",
       "    <tr>\n",
       "      <th>4</th>\n",
       "      <td>1f4cKwcKfNiLbQr8x2tZ3C</td>\n",
       "      <td>Melt!</td>\n",
       "      <td>short_term</td>\n",
       "      <td>4.848485</td>\n",
       "      <td>1f4cKwcKfNiLbQr8x2tZ3C</td>\n",
       "      <td>0.9190</td>\n",
       "      <td>0.7850</td>\n",
       "      <td>-13.059</td>\n",
       "      <td>0.4430</td>\n",
       "      <td>131.037</td>\n",
       "      <td>0.0552</td>\n",
       "      <td>0.00772</td>\n",
       "      <td>0.916000</td>\n",
       "      <td>214307</td>\n",
       "      <td>4</td>\n",
       "      <td>[0.63, 0.68, 0.49, 0.41, 0.46, 0.5, 0.56, 0.53...</td>\n",
       "      <td>[36.82, 22.73, -62.74, 44.28, 36.1, -56.15, -1...</td>\n",
       "      <td>85.714286</td>\n",
       "      <td>0.56</td>\n",
       "      <td>1f4cKwcKfNiLbQr8x2tZ3C</td>\n",
       "    </tr>\n",
       "    <tr>\n",
       "      <th>...</th>\n",
       "      <td>...</td>\n",
       "      <td>...</td>\n",
       "      <td>...</td>\n",
       "      <td>...</td>\n",
       "      <td>...</td>\n",
       "      <td>...</td>\n",
       "      <td>...</td>\n",
       "      <td>...</td>\n",
       "      <td>...</td>\n",
       "      <td>...</td>\n",
       "      <td>...</td>\n",
       "      <td>...</td>\n",
       "      <td>...</td>\n",
       "      <td>...</td>\n",
       "      <td>...</td>\n",
       "      <td>...</td>\n",
       "      <td>...</td>\n",
       "      <td>...</td>\n",
       "      <td>...</td>\n",
       "      <td>...</td>\n",
       "    </tr>\n",
       "    <tr>\n",
       "      <th>233</th>\n",
       "      <td>2OqtZbITDWCFUHAT9fmdin</td>\n",
       "      <td>Choses nouvelles</td>\n",
       "      <td>long_term</td>\n",
       "      <td>4.242424</td>\n",
       "      <td>2OqtZbITDWCFUHAT9fmdin</td>\n",
       "      <td>0.3830</td>\n",
       "      <td>0.6690</td>\n",
       "      <td>-12.993</td>\n",
       "      <td>0.5690</td>\n",
       "      <td>140.011</td>\n",
       "      <td>0.0385</td>\n",
       "      <td>0.46500</td>\n",
       "      <td>0.856000</td>\n",
       "      <td>234600</td>\n",
       "      <td>4</td>\n",
       "      <td>[0.36, 0.36, 0.31, 0.19, 0.24, 0.25, 0.45, 0.2...</td>\n",
       "      <td>[42.33, -84.86, -38.32, -18.36, -1.64, -23.54,...</td>\n",
       "      <td>90.909091</td>\n",
       "      <td>0.45</td>\n",
       "      <td>2OqtZbITDWCFUHAT9fmdin</td>\n",
       "    </tr>\n",
       "    <tr>\n",
       "      <th>234</th>\n",
       "      <td>6EPRKhUOdiFSQwGBRBbvsZ</td>\n",
       "      <td>Ace of Spades</td>\n",
       "      <td>long_term</td>\n",
       "      <td>4.181818</td>\n",
       "      <td>6EPRKhUOdiFSQwGBRBbvsZ</td>\n",
       "      <td>0.9100</td>\n",
       "      <td>0.3420</td>\n",
       "      <td>-7.748</td>\n",
       "      <td>0.5470</td>\n",
       "      <td>140.452</td>\n",
       "      <td>0.0758</td>\n",
       "      <td>0.00004</td>\n",
       "      <td>0.000121</td>\n",
       "      <td>166360</td>\n",
       "      <td>4</td>\n",
       "      <td>[0.31, 0.43, 0.34, 0.66, 0.67, 0.54, 0.46, 0.3...</td>\n",
       "      <td>[51.29, 89.0, 28.24, -10.6, 3.43, -30.31, -2.3...</td>\n",
       "      <td>80.000000</td>\n",
       "      <td>0.50</td>\n",
       "      <td>6EPRKhUOdiFSQwGBRBbvsZ</td>\n",
       "    </tr>\n",
       "    <tr>\n",
       "      <th>235</th>\n",
       "      <td>4Jj8pWRyVjh0KIJLrcreRa</td>\n",
       "      <td>Here We Go Jack</td>\n",
       "      <td>long_term</td>\n",
       "      <td>4.121212</td>\n",
       "      <td>4Jj8pWRyVjh0KIJLrcreRa</td>\n",
       "      <td>0.3090</td>\n",
       "      <td>0.6790</td>\n",
       "      <td>-10.606</td>\n",
       "      <td>0.4730</td>\n",
       "      <td>163.979</td>\n",
       "      <td>0.0320</td>\n",
       "      <td>0.58500</td>\n",
       "      <td>0.907000</td>\n",
       "      <td>237938</td>\n",
       "      <td>4</td>\n",
       "      <td>[0.29, 0.49, 0.36, 0.16, 0.52, 0.21, 0.28, 0.1...</td>\n",
       "      <td>[41.27, -87.94, -54.71, -3.61, 1.01, -23.17, 4...</td>\n",
       "      <td>87.500000</td>\n",
       "      <td>0.75</td>\n",
       "      <td>4Jj8pWRyVjh0KIJLrcreRa</td>\n",
       "    </tr>\n",
       "    <tr>\n",
       "      <th>236</th>\n",
       "      <td>3v9g8iM3v5irWQHqFWaDSo</td>\n",
       "      <td>Cómo Te Quiero</td>\n",
       "      <td>long_term</td>\n",
       "      <td>4.060606</td>\n",
       "      <td>3v9g8iM3v5irWQHqFWaDSo</td>\n",
       "      <td>0.2770</td>\n",
       "      <td>0.6080</td>\n",
       "      <td>-11.917</td>\n",
       "      <td>0.4370</td>\n",
       "      <td>126.501</td>\n",
       "      <td>0.0282</td>\n",
       "      <td>0.62200</td>\n",
       "      <td>0.896000</td>\n",
       "      <td>242536</td>\n",
       "      <td>4</td>\n",
       "      <td>[0.32, 0.22, 0.24, 0.16, 0.39, 0.14, 0.23, 0.4...</td>\n",
       "      <td>[40.47, -62.61, 3.05, -1.31, -12.6, -24.89, -1...</td>\n",
       "      <td>88.888889</td>\n",
       "      <td>0.73</td>\n",
       "      <td>3v9g8iM3v5irWQHqFWaDSo</td>\n",
       "    </tr>\n",
       "    <tr>\n",
       "      <th>237</th>\n",
       "      <td>2tObQO8pxckNOezskTjWVK</td>\n",
       "      <td>Concerto in D Minor, BWV 974: II. Adagio</td>\n",
       "      <td>long_term</td>\n",
       "      <td>4.000000</td>\n",
       "      <td>2tObQO8pxckNOezskTjWVK</td>\n",
       "      <td>0.0179</td>\n",
       "      <td>0.3830</td>\n",
       "      <td>-30.931</td>\n",
       "      <td>0.0387</td>\n",
       "      <td>63.586</td>\n",
       "      <td>0.0455</td>\n",
       "      <td>0.99300</td>\n",
       "      <td>0.949000</td>\n",
       "      <td>250333</td>\n",
       "      <td>4</td>\n",
       "      <td>[0.21, 0.28, 0.4, 0.14, 0.38, 0.36, 0.12, 0.31...</td>\n",
       "      <td>[23.88, -124.16, 36.2, 23.86, 83.74, -33.15, 5...</td>\n",
       "      <td>66.666667</td>\n",
       "      <td>0.43</td>\n",
       "      <td>2tObQO8pxckNOezskTjWVK</td>\n",
       "    </tr>\n",
       "  </tbody>\n",
       "</table>\n",
       "<p>238 rows × 20 columns</p>\n",
       "</div>"
      ],
      "text/plain": [
       "                         id                                      name  \\\n",
       "0    7L5IwfKB6W0tadcSh9wlyH                                 Ouverture   \n",
       "1    0tAZi3X7dUdd7m8OXB8pMA                                    Shadow   \n",
       "2    1XMDIKQbV30WJPKLMN6MKv                               INSTRUCTION   \n",
       "3    1XZdwzd8DTDvkjVc0eJ9BI                         Wildlife Analysis   \n",
       "4    1f4cKwcKfNiLbQr8x2tZ3C                                     Melt!   \n",
       "..                      ...                                       ...   \n",
       "233  2OqtZbITDWCFUHAT9fmdin                          Choses nouvelles   \n",
       "234  6EPRKhUOdiFSQwGBRBbvsZ                             Ace of Spades   \n",
       "235  4Jj8pWRyVjh0KIJLrcreRa                           Here We Go Jack   \n",
       "236  3v9g8iM3v5irWQHqFWaDSo                            Cómo Te Quiero   \n",
       "237  2tObQO8pxckNOezskTjWVK  Concerto in D Minor, BWV 974: II. Adagio   \n",
       "\n",
       "          range    rating                 id_copy  energy  danceability  \\\n",
       "0    short_term  5.393939  7L5IwfKB6W0tadcSh9wlyH  0.3360        0.4960   \n",
       "1    short_term  5.272727  0tAZi3X7dUdd7m8OXB8pMA  0.2750        0.0832   \n",
       "2    short_term  4.969697  1XMDIKQbV30WJPKLMN6MKv  0.3550        0.4910   \n",
       "3    short_term  4.909091  1XZdwzd8DTDvkjVc0eJ9BI  0.0204        0.1550   \n",
       "4    short_term  4.848485  1f4cKwcKfNiLbQr8x2tZ3C  0.9190        0.7850   \n",
       "..          ...       ...                     ...     ...           ...   \n",
       "233   long_term  4.242424  2OqtZbITDWCFUHAT9fmdin  0.3830        0.6690   \n",
       "234   long_term  4.181818  6EPRKhUOdiFSQwGBRBbvsZ  0.9100        0.3420   \n",
       "235   long_term  4.121212  4Jj8pWRyVjh0KIJLrcreRa  0.3090        0.6790   \n",
       "236   long_term  4.060606  3v9g8iM3v5irWQHqFWaDSo  0.2770        0.6080   \n",
       "237   long_term  4.000000  2tObQO8pxckNOezskTjWVK  0.0179        0.3830   \n",
       "\n",
       "     loudness  valence    tempo  speechiness  acousticness  instrumentalness  \\\n",
       "0     -19.440   0.1850  129.006       0.0513       0.95500          0.912000   \n",
       "1     -15.256   0.0334  170.316       0.0347       0.88700          0.853000   \n",
       "2     -12.480   0.0369  145.405       0.0354       0.38200          0.887000   \n",
       "3     -31.212   0.2780   79.755       0.0462       0.99500          0.936000   \n",
       "4     -13.059   0.4430  131.037       0.0552       0.00772          0.916000   \n",
       "..        ...      ...      ...          ...           ...               ...   \n",
       "233   -12.993   0.5690  140.011       0.0385       0.46500          0.856000   \n",
       "234    -7.748   0.5470  140.452       0.0758       0.00004          0.000121   \n",
       "235   -10.606   0.4730  163.979       0.0320       0.58500          0.907000   \n",
       "236   -11.917   0.4370  126.501       0.0282       0.62200          0.896000   \n",
       "237   -30.931   0.0387   63.586       0.0455       0.99300          0.949000   \n",
       "\n",
       "     duration_ms  time_signature  \\\n",
       "0         322173               4   \n",
       "1         558267               1   \n",
       "2         262733               4   \n",
       "3          75627               4   \n",
       "4         214307               4   \n",
       "..           ...             ...   \n",
       "233       234600               4   \n",
       "234       166360               4   \n",
       "235       237938               4   \n",
       "236       242536               4   \n",
       "237       250333               4   \n",
       "\n",
       "                                             pitch_avg  \\\n",
       "0    [0.27, 0.58, 0.21, 0.27, 0.18, 0.34, 0.26, 0.0...   \n",
       "1    [0.18, 0.26, 0.64, 0.5, 0.16, 0.26, 0.16, 0.21...   \n",
       "2    [0.51, 0.26, 0.22, 0.12, 0.12, 0.2, 0.21, 0.39...   \n",
       "3    [0.12, 0.06, 0.43, 0.1, 0.56, 0.08, 0.08, 0.16...   \n",
       "4    [0.63, 0.68, 0.49, 0.41, 0.46, 0.5, 0.56, 0.53...   \n",
       "..                                                 ...   \n",
       "233  [0.36, 0.36, 0.31, 0.19, 0.24, 0.25, 0.45, 0.2...   \n",
       "234  [0.31, 0.43, 0.34, 0.66, 0.67, 0.54, 0.46, 0.3...   \n",
       "235  [0.29, 0.49, 0.36, 0.16, 0.52, 0.21, 0.28, 0.1...   \n",
       "236  [0.32, 0.22, 0.24, 0.16, 0.39, 0.14, 0.23, 0.4...   \n",
       "237  [0.21, 0.28, 0.4, 0.14, 0.38, 0.36, 0.12, 0.31...   \n",
       "\n",
       "                                            timbre_avg  key_change_percentage  \\\n",
       "0    [36.4, -140.17, -20.32, -18.11, 13.38, -37.86,...              75.000000   \n",
       "1    [40.29, -65.03, 29.6, -16.94, 3.88, -26.49, -1...              93.333333   \n",
       "2    [38.23, -65.25, -37.01, -15.68, 9.7, -36.31, 2...              75.000000   \n",
       "3    [28.95, -181.05, 81.47, 3.86, 94.46, -38.57, -...               0.000000   \n",
       "4    [36.82, 22.73, -62.74, 44.28, 36.1, -56.15, -1...              85.714286   \n",
       "..                                                 ...                    ...   \n",
       "233  [42.33, -84.86, -38.32, -18.36, -1.64, -23.54,...              90.909091   \n",
       "234  [51.29, 89.0, 28.24, -10.6, 3.43, -30.31, -2.3...              80.000000   \n",
       "235  [41.27, -87.94, -54.71, -3.61, 1.01, -23.17, 4...              87.500000   \n",
       "236  [40.47, -62.61, 3.05, -1.31, -12.6, -24.89, -1...              88.888889   \n",
       "237  [23.88, -124.16, 36.2, 23.86, 83.74, -33.15, 5...              66.666667   \n",
       "\n",
       "     mode_avg               id_copy_2  \n",
       "0        0.14  7L5IwfKB6W0tadcSh9wlyH  \n",
       "1        0.86  0tAZi3X7dUdd7m8OXB8pMA  \n",
       "2        0.36  1XMDIKQbV30WJPKLMN6MKv  \n",
       "3        0.33  1XZdwzd8DTDvkjVc0eJ9BI  \n",
       "4        0.56  1f4cKwcKfNiLbQr8x2tZ3C  \n",
       "..        ...                     ...  \n",
       "233      0.45  2OqtZbITDWCFUHAT9fmdin  \n",
       "234      0.50  6EPRKhUOdiFSQwGBRBbvsZ  \n",
       "235      0.75  4Jj8pWRyVjh0KIJLrcreRa  \n",
       "236      0.73  3v9g8iM3v5irWQHqFWaDSo  \n",
       "237      0.43  2tObQO8pxckNOezskTjWVK  \n",
       "\n",
       "[238 rows x 20 columns]"
      ]
     },
     "execution_count": 66,
     "metadata": {},
     "output_type": "execute_result"
    }
   ],
   "source": [
    "df_toptracks_features_analysis = pd.read_csv(\"./dataset/toptracks_ratings_features_analysis.csv\")\n",
    "df_toptracks_features_analysis"
   ]
  },
  {
   "cell_type": "markdown",
   "id": "3df22cd7",
   "metadata": {},
   "source": [
    "# Convert dataset to numpy array and clean/prepare for training"
   ]
  },
  {
   "cell_type": "code",
   "execution_count": 67,
   "id": "816537e6",
   "metadata": {
    "scrolled": true
   },
   "outputs": [
    {
     "name": "stdout",
     "output_type": "stream",
     "text": [
      "features ['Ouverture' 0.336 0.496 -19.44 0.185 129.006 0.0513 0.955 0.912 322173 4\n",
      " '[0.27, 0.58, 0.21, 0.27, 0.18, 0.34, 0.26, 0.07, 0.08, 0.27, 0.57, 0.19]'\n",
      " '[36.4, -140.17, -20.32, -18.11, 13.38, -37.86, 3.36, 1.33, -6.62, 3.97, -0.23, 9.65]'\n",
      " 75.0 0.14]\n",
      "(238, 15)\n",
      "\n",
      "\n",
      "--------------------\n",
      "classes: ['bad' 'okay' 'good' 'great']\n",
      "(4,)\n",
      "\n",
      "\n",
      "--------------------\n",
      "labels: [2 2 1 1 1 1 1 1 1 1 1 1 1 1 1 1 1 1 1 1 1 1 1 1 1 1 1 1 1 1 1 1 1 1 1 1 1\n",
      " 0 0 0 0 0 0 0 0 0 0 0 0 0 0 0 0 0 0 0 0 0 2 2 2 2 2 2 2 2 2 2 2 2 2 2 2 2\n",
      " 2 2 2 2 2 2 2 2 2 2 2 2 2 2 2 2 2 2 2 2 2 1 1 1 1 1 1 1 1 1 1 1 1 1 1 1 1\n",
      " 1 1 1 1 1 1 1 1 1 1 1 1 1 1 1 1 1 1 1 1 1 1 1 1 1 1 1 1 3 3 3 3 3 3 3 3 3\n",
      " 3 3 3 3 3 3 3 3 3 3 3 3 3 3 3 3 3 3 3 2 2 2 2 2 2 2 2 2 2 2 2 2 2 2 2 2 2\n",
      " 2 2 2 2 2 2 2 2 2 2 2 2 2 2 2 2 2 2 2 2 2 2 2 2 2 2 2 2 2 2 2 2 2 2 2 2 1\n",
      " 1 1 1 1 1 1 1 1 1 1 1 1 1 1 1 1]\n",
      "(238,)\n"
     ]
    }
   ],
   "source": [
    "# convert dataframe rows into arrays. Every array in the 2d array is a row\n",
    "features = df_toptracks_features_analysis[\n",
    "    [\"name\", \"energy\", \"danceability\", \"loudness\", \"valence\", \"tempo\", \n",
    "     \"speechiness\", \"acousticness\", \"instrumentalness\", \"duration_ms\", \"time_signature\", \n",
    "    \"pitch_avg\", \"timbre_avg\", \"key_change_percentage\", \"mode_avg\"]].to_numpy()\n",
    "\n",
    "#only features\n",
    "#features = df_toptracks_features_analysis[[\"name\", \"energy\", \"danceability\", \"loudness\", \"valence\", \"tempo\", \"speechiness\", \"acousticness\", \"instrumentalness\"]].to_numpy()\n",
    "#only analysis\n",
    "#features = df_toptracks_features_analysis[[\"name\", \"pitch_avg\", \"timbre_avg\", \"key_change_percentage\", \"mode_avg\"]].to_numpy()\n",
    "\n",
    "# define 5 classes\n",
    "classes = np.array([\"bad\", \"okay\", \"good\", \"great\"])\n",
    "\n",
    "# convert all ratings from 0 - 10 into 0 - 4, to match the classes\n",
    "labels = df_toptracks_features_analysis[\"rating\"].to_numpy()\n",
    "labels = np.round([label/10*3 for label in labels]).astype(\"int\")\n",
    "\n",
    "print(\"features\", features[0])\n",
    "print(features.shape)\n",
    "print(\"\\n\")\n",
    "print(\"--------------------\")\n",
    "print(\"classes:\", classes)\n",
    "print(classes.shape)\n",
    "print(\"\\n\")\n",
    "print(\"--------------------\")\n",
    "print(\"labels:\", labels)\n",
    "print(labels.shape)"
   ]
  },
  {
   "cell_type": "markdown",
   "id": "014f38e2",
   "metadata": {},
   "source": [
    "### clean features"
   ]
  },
  {
   "cell_type": "code",
   "execution_count": 68,
   "id": "2023855b",
   "metadata": {
    "scrolled": true
   },
   "outputs": [
    {
     "data": {
      "text/plain": [
       "array([0, 0.336, 0.496, -19.44, 0.185, 129.006, 0.0513, 0.955, 0.912,\n",
       "       322173, 4,\n",
       "       '[0.27, 0.58, 0.21, 0.27, 0.18, 0.34, 0.26, 0.07, 0.08, 0.27, 0.57, 0.19]',\n",
       "       '[36.4, -140.17, -20.32, -18.11, 13.38, -37.86, 3.36, 1.33, -6.62, 3.97, -0.23, 9.65]',\n",
       "       75.0, 0.14], dtype=object)"
      ]
     },
     "execution_count": 68,
     "metadata": {},
     "output_type": "execute_result"
    }
   ],
   "source": [
    "# cleaned features\n",
    "features_cleaned = features\n",
    "\n",
    "# Substitute titles with integers\n",
    "for i in range(features_cleaned.shape[0]):\n",
    "    features_cleaned[i][0] = i\n",
    "\n",
    "features_cleaned[0]"
   ]
  },
  {
   "cell_type": "code",
   "execution_count": 69,
   "id": "5e50edba",
   "metadata": {
    "scrolled": true
   },
   "outputs": [
    {
     "name": "stdout",
     "output_type": "stream",
     "text": [
      "[0 0.336 0.496 -19.44 0.185 129.006 0.0513 0.955 0.912 322173 4\n",
      " list([0.27, 0.58, 0.21, 0.27, 0.18, 0.34, 0.26, 0.07, 0.08, 0.27, 0.57, 0.19])\n",
      " list([36.4, -140.17, -20.32, -18.11, 13.38, -37.86, 3.36, 1.33, -6.62, 3.97, -0.23, 9.65])\n",
      " 75.0 0.14]\n"
     ]
    }
   ],
   "source": [
    "# convert the timbre and pitch vectors, which are actually strings in the dataframe imported, to lists again\n",
    "for row in range(features_cleaned.shape[0]):\n",
    "    for col in range(features_cleaned.shape[1]):\n",
    "        if type(features_cleaned[row][col]) == str:\n",
    "            features_cleaned[row][col] = ast.literal_eval(features_cleaned[row][col])\n",
    "\n",
    "print(features_cleaned[0])"
   ]
  },
  {
   "cell_type": "code",
   "execution_count": 70,
   "id": "72ed1db6",
   "metadata": {
    "scrolled": true
   },
   "outputs": [
    {
     "name": "stdout",
     "output_type": "stream",
     "text": [
      "(238, 37)\n",
      "[ 0.00000e+00  3.36000e-01  4.96000e-01 -1.94400e+01  1.85000e-01\n",
      "  1.29006e+02  5.13000e-02  9.55000e-01  9.12000e-01  3.22173e+05\n",
      "  4.00000e+00  2.70000e-01  5.80000e-01  2.10000e-01  2.70000e-01\n",
      "  1.80000e-01  3.40000e-01  2.60000e-01  7.00000e-02  8.00000e-02\n",
      "  2.70000e-01  5.70000e-01  1.90000e-01  3.64000e+01 -1.40170e+02\n",
      " -2.03200e+01 -1.81100e+01  1.33800e+01 -3.78600e+01  3.36000e+00\n",
      "  1.33000e+00 -6.62000e+00  3.97000e+00 -2.30000e-01  9.65000e+00\n",
      "  7.50000e+01  1.40000e-01]\n"
     ]
    }
   ],
   "source": [
    "# unpack/flatten the timbre and pitch lists within the 2d features_cleaned\n",
    "# (and subesequently extent the coloumn size of the feature array.)\n",
    "\n",
    "def flatten(x):\n",
    "    for item in x:\n",
    "        try:\n",
    "            #if x has a member (item) it means its a a list or array, therefore we feed the item back into the function.\n",
    "            yield from flatten(item)\n",
    "        #so if x has no members to iterate on (i.e its a float or integer), we return it (yield)\n",
    "        except TypeError:\n",
    "            yield item\n",
    "\n",
    "temp_features = np.empty([])\n",
    "for i in range(features_cleaned.shape[0]):\n",
    "    \n",
    "    # flatten row\n",
    "    row = list(flatten(features_cleaned[i]))\n",
    "    \n",
    "    # round all values in row to 2 decimals max\n",
    "    #row = [round(elem, 2) for elem in row]\n",
    "    \n",
    "    # make numpy array of row\n",
    "    row = np.array(row)\n",
    "    \n",
    "    # add them together\n",
    "    if i == 0:\n",
    "        temp_features = row\n",
    "    else:\n",
    "        temp_features = np.vstack((temp_features, row))\n",
    "\n",
    "# add to final variable\n",
    "features_cleaned = temp_features\n",
    "\n",
    "print(features_cleaned.shape)\n",
    "print(features_cleaned[0])"
   ]
  },
  {
   "cell_type": "code",
   "execution_count": 71,
   "id": "096a3a9a",
   "metadata": {
    "scrolled": true
   },
   "outputs": [
    {
     "name": "stdout",
     "output_type": "stream",
     "text": [
      "(238, 37)\n",
      "[-1.72478851 -0.8850498  -0.16291797 -1.33401665 -0.89911006  0.26935514\n",
      " -0.0437082   1.73852202  1.28350816  0.55031166  0.25240304 -1.0076595\n",
      "  0.84408526 -0.96069087 -0.18697604 -1.10001101  0.15926726 -0.49106958\n",
      " -2.16469688 -1.85848402 -0.40012895  2.49376614 -0.95492962 -1.21048634\n",
      " -1.93032954 -0.50973086 -0.85398972 -0.15551792 -1.00441942  0.40583306\n",
      "  0.42694018 -0.06342728  1.05298995  1.79386087  1.86721825 -0.48468213\n",
      " -2.26164083]\n"
     ]
    }
   ],
   "source": [
    "# simple scaling of features\n",
    "\n",
    "scaler = StandardScaler()\n",
    "\n",
    "# learning the scaling\n",
    "scaler.fit(features_cleaned)\n",
    "\n",
    "# apply the scaling\n",
    "features_cleaned = scaler.transform(features_cleaned)\n",
    "\n",
    "print(features_cleaned.shape)\n",
    "print(features_cleaned[0])"
   ]
  },
  {
   "cell_type": "markdown",
   "id": "44d3dddd",
   "metadata": {},
   "source": [
    "# Visualising the features"
   ]
  },
  {
   "cell_type": "code",
   "execution_count": 72,
   "id": "1d1bdd6b",
   "metadata": {},
   "outputs": [
    {
     "data": {
      "image/png": "[encoded data removed]",
      "text/plain": [
       "<Figure size 600x600 with 1 Axes>"
      ]
     },
     "metadata": {},
     "output_type": "display_data"
    }
   ],
   "source": [
    "#Plotting the features in a 2D scatter plot\n",
    "#we can plot up to 2 features (or you can attempt a 3D plot) \n",
    "#we also include an histrogram (different view of the same data)\n",
    "\n",
    "axis1 = 1 #energy\n",
    "axis2 = 3 #loudness\n",
    "\n",
    "with plt.style.context('seaborn-whitegrid'):\n",
    "    plt.figure(figsize=(6, 6))\n",
    "    for lab_val, lab_name in zip(range(0,len(classes)),classes):\n",
    "        plt.scatter(features_cleaned[labels==lab_val, axis1],\n",
    "                    features_cleaned[labels==lab_val, axis2],\n",
    "                    label=lab_name\n",
    "                    )\n",
    "    plt.xlabel(\"energy\")\n",
    "    plt.ylabel(\"loudness\")\n",
    "    plt.legend(loc='center right')\n",
    "    plt.tight_layout()\n",
    "    plt.show()"
   ]
  },
  {
   "cell_type": "markdown",
   "id": "808a02e9",
   "metadata": {},
   "source": [
    "# Dimensionality reduction"
   ]
  },
  {
   "cell_type": "markdown",
   "id": "77fb2dfb",
   "metadata": {},
   "source": [
    "# PCA"
   ]
  },
  {
   "cell_type": "code",
   "execution_count": 40,
   "id": "747ace14",
   "metadata": {},
   "outputs": [
    {
     "name": "stdout",
     "output_type": "stream",
     "text": [
      "(238, 37)\n",
      "(238, 37)\n"
     ]
    },
    {
     "data": {
      "image/png": "[encoded data removed]",
      "text/plain": [
       "<Figure size 600x600 with 1 Axes>"
      ]
     },
     "metadata": {},
     "output_type": "display_data"
    }
   ],
   "source": [
    "#Creating an instance of a PCA object, which is an object capable of learning and applying PCA from/to data.\n",
    "#if we want to keep only a given number of components we can use the argument \"n_components\"\n",
    "pca = sklearn.decomposition.PCA()\n",
    "\n",
    "#This will learn PCA projection from data, mind that we are using the features only\n",
    "pca.fit(features_cleaned)\n",
    "\n",
    "#Now we project the data into a from a 7D to a new 7D space (the principal components)\n",
    "features_projected = pca.transform(features_cleaned)\n",
    "\n",
    "#the dimensionality should be the same as the feature\n",
    "print(features_cleaned.shape)\n",
    "print(features_projected.shape)\n",
    "\n",
    "#Plot the distribution of the data according to the first two PCA components\n",
    "with plt.style.context('seaborn-whitegrid'):\n",
    "    plt.figure(figsize=(6, 6))\n",
    "    for lab_val, lab_name in zip(range(0,len(classes)),classes):\n",
    "        plt.scatter(features_projected[labels==lab_val, 0],\n",
    "                    features_projected[labels==lab_val, 1],\n",
    "                    label=lab_name)\n",
    "    plt.xlabel('1st PCA Component')\n",
    "    plt.ylabel('2nd PCA Component')\n",
    "    plt.legend(loc='lower center')\n",
    "    plt.tight_layout()\n",
    "    plt.show()"
   ]
  },
  {
   "cell_type": "markdown",
   "id": "35bd12e2",
   "metadata": {},
   "source": [
    "### LDA"
   ]
  },
  {
   "cell_type": "code",
   "execution_count": 73,
   "id": "ea0747a0",
   "metadata": {
    "scrolled": true
   },
   "outputs": [
    {
     "name": "stdout",
     "output_type": "stream",
     "text": [
      "(238, 37)\n",
      "(238, 3)\n"
     ]
    },
    {
     "data": {
      "image/png": "[encoded data removed]",
      "text/plain": [
       "<Figure size 600x600 with 1 Axes>"
      ]
     },
     "metadata": {},
     "output_type": "display_data"
    }
   ],
   "source": [
    "#Creating an instance of the LDA object, which is an object capable of learning and applying LDA from/to data.\n",
    "#if we want to keep only a given number of components we can use the argument \"n_components\"\n",
    "\n",
    "lda = LinearDiscriminantAnalysis()\n",
    "\n",
    "#LDA needs BOTH features and labels (as integer numbers), other techniques needs only features\n",
    "lda.fit(features_cleaned, labels)\n",
    "\n",
    "#Now we project the data into a from a 4D to a (number of classes - 1) space,\n",
    "#if the number of components in scikit-learn, LDA transform the data to a number of dimensions\n",
    "#equal to min(n_classes - 1), which in our case is 4 classes -1 = 3.\n",
    "#with more classess we will have more dimensions at the output of LDA projection\n",
    "features_projected = lda.transform(features_cleaned)\n",
    "\n",
    "#the dimensionality should be the same number of classes - 1\n",
    "print(features_cleaned.shape)\n",
    "print(features_projected.shape)\n",
    "\n",
    "#Plot the distribution of the data according to the first two LDA components\n",
    "with plt.style.context('seaborn-whitegrid'):\n",
    "    plt.figure(figsize=(6, 6))\n",
    "    for lab_val, lab_name in zip(range(0,len(classes)),classes):\n",
    "        plt.scatter(features_projected[labels==lab_val, 0],\n",
    "                    features_projected[labels==lab_val, 1],\n",
    "                    label=lab_name)\n",
    "    plt.xlabel('1st LDA Component')\n",
    "    plt.ylabel('2nd LDA Component')\n",
    "    plt.legend(loc='lower center')\n",
    "    plt.tight_layout()\n",
    "    plt.show()"
   ]
  },
  {
   "cell_type": "markdown",
   "id": "7744a71b",
   "metadata": {},
   "source": [
    "# Grid Search\n",
    "\n",
    "get a sense of where to start with the tuning of the metrics"
   ]
  },
  {
   "cell_type": "code",
   "execution_count": 74,
   "id": "2af4a6db",
   "metadata": {
    "scrolled": true
   },
   "outputs": [
    {
     "name": "stdout",
     "output_type": "stream",
     "text": [
      "avaliable model parameters\n",
      "MLP dict_keys(['activation', 'alpha', 'batch_size', 'beta_1', 'beta_2', 'early_stopping', 'epsilon', 'hidden_layer_sizes', 'learning_rate', 'learning_rate_init', 'max_fun', 'max_iter', 'momentum', 'n_iter_no_change', 'nesterovs_momentum', 'power_t', 'random_state', 'shuffle', 'solver', 'tol', 'validation_fraction', 'verbose', 'warm_start'])\n"
     ]
    }
   ],
   "source": [
    "#Import the classifier\n",
    "from sklearn.neural_network import MLPClassifier\n",
    "\n",
    "mlp = MLPClassifier()\n",
    "\n",
    "print(\"avaliable model parameters\")\n",
    "print(\"MLP\", mlp.get_params().keys())"
   ]
  },
  {
   "cell_type": "code",
   "execution_count": 75,
   "id": "6420de26",
   "metadata": {
    "scrolled": true
   },
   "outputs": [
    {
     "name": "stdout",
     "output_type": "stream",
     "text": [
      "best set of parameters {'activation': 'identity', 'hidden_layer_sizes': [100, 100, 50, 50], 'max_iter': 500}\n",
      "associated best score 0.6309920212765957\n"
     ]
    }
   ],
   "source": [
    "crossval = RepeatedKFold(n_splits=5, n_repeats=100)\n",
    "\n",
    "params = {\n",
    "    'activation': ['identity', 'logistic', 'tanh', 'relu'],\n",
    "    'hidden_layer_sizes': [[100, 50, 30], [200, 100, 50], [100, 75, 50, 25], [100, 100, 50, 50]],\n",
    "    'max_iter': [500, 1000, 2000, 5000, 10000],\n",
    "}\n",
    "\n",
    "gd_sr = GridSearchCV(estimator=mlp,\n",
    "                     param_grid=params,\n",
    "                     scoring='accuracy',\n",
    "                     cv=crossval,  \n",
    "                     n_jobs=-1) \n",
    "\n",
    "# was features_projected (after dimred)\n",
    "# features_cleaned (if no dimred)\n",
    "gd_sr.fit(features_projected, labels)\n",
    "\n",
    "print('best set of parameters', gd_sr.best_params_)\n",
    "print('associated best score',gd_sr.best_score_)"
   ]
  },
  {
   "cell_type": "markdown",
   "id": "8664269b",
   "metadata": {},
   "source": [
    "## Results\n",
    "* PCA, 4 classes, only features = 0.189\n",
    "* PCA, 4 classes, all features = 0.39 {'activation': 'relu', 'hidden_layer_sizes': [100, 50, 30], 'max_iter': 500}\n",
    "* PCA, 4 classes, only analysis = 0.13\n",
    "* LDA, 4 classes, all features = 0.62 {'activation': 'identity', 'hidden_layer_sizes': [100, 75, 50, 25], 'max_iter': 1000}\n",
    "* LDA, 4 classes, all features, kfold(5,100) = 0.63 {'activation': 'identity', 'hidden_layer_sizes': [100, 100, 50, 50], 'max_iter': 500}\n",
    "* LDA, 4 classes, only features = 0.47 {'activation': 'identity', 'hidden_layer_sizes': [100, 75, 50, 25], 'max_iter': 10000}\n",
    "* LDA, 4 classes, only analysis = 0.53 {'activation': 'identity', 'hidden_layer_sizes': [100, 100, 50, 50], 'max_iter': 500}\n",
    "\n",
    "* LDA, 5 classes, all features = 0.57 {'activation': 'identity', 'hidden_layer_sizes': [100, 50, 30], 'max_iter': 500}\n",
    "* LDA, 5 classes, all features, kfold(5, 100) = 0.58 {'activation': 'identity', 'hidden_layer_sizes': [100, 50, 30], 'max_iter': 1000}"
   ]
  },
  {
   "cell_type": "code",
   "execution_count": null,
   "id": "55293077",
   "metadata": {},
   "outputs": [],
   "source": []
  }
 ],
 "metadata": {
  "kernelspec": {
   "display_name": "Python 3 (ipykernel)",
   "language": "python",
   "name": "python3"
  },
  "language_info": {
   "codemirror_mode": {
    "name": "ipython",
    "version": 3
   },
   "file_extension": ".py",
   "mimetype": "text/x-python",
   "name": "python",
   "nbconvert_exporter": "python",
   "pygments_lexer": "ipython3",
   "version": "3.9.13"
  }
 },
 "nbformat": 4,
 "nbformat_minor": 5
}
