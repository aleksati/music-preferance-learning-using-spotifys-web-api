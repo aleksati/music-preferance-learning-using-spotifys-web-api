{
 "cells": [
  {
   "cell_type": "code",
   "execution_count": 30,
   "metadata": {},
   "outputs": [],
   "source": [
    "import utils\n",
    "import numpy as np\n",
    "import joblib\n",
    "import sklearn\n",
    "from sklearn.neural_network import MLPRegressor\n",
    "from sklearn import preprocessing, decomposition, manifold\n",
    "from sklearn.discriminant_analysis import LinearDiscriminantAnalysis"
   ]
  },
  {
   "cell_type": "code",
   "execution_count": 31,
   "metadata": {},
   "outputs": [],
   "source": [
    "playlist_url = \"51oeeq3wCVlQmcLx2C18pd?si=RN2x_DKdQp-qc9uw3s-x0Q\"\n",
    "username = \"Aleksander Tidemann\""
   ]
  },
  {
   "cell_type": "code",
   "execution_count": 32,
   "metadata": {
    "tags": []
   },
   "outputs": [
    {
     "name": "stdout",
     "output_type": "stream",
     "text": [
      "Predicting likeability on 1 track(s)!\n"
     ]
    }
   ],
   "source": [
    "track = utils.shoot(playlist_url, username)\n",
    "print(f'Predicting likeability on {len(track)} track(s)!')"
   ]
  },
  {
   "cell_type": "code",
   "execution_count": 33,
   "metadata": {
    "scrolled": true,
    "tags": []
   },
   "outputs": [
    {
     "name": "stdout",
     "output_type": "stream",
     "text": [
      "Prediction rating of track:  7.01\n"
     ]
    }
   ],
   "source": [
    "#LDA dimred\n",
    "dim_red_file = \"dimred.pkl\"\n",
    "dimred = joblib.load(dim_red_file)\n",
    "projected_track = dimred.transform(track)\n",
    "\n",
    "#scaler \n",
    "scaler_file = 'scaler.pkl'\n",
    "scaler = joblib.load(scaler_file)\n",
    "projected_track = scaler.transform(projected_track)\n",
    "\n",
    "#predict\n",
    "model = 'model.pkl'\n",
    "MLP_reg = joblib.load(model)\n",
    "tar_predict=MLP_reg.predict(projected_track) \n",
    "\n",
    "if len(track) > 1:\n",
    "    for i in range(len(track)):\n",
    "        print(f'Prediction rating of track {i+1}: ', round(tar_predict[i], 2))\n",
    "else:\n",
    "    print('Prediction rating of track: ', round(tar_predict[0], 2))"
   ]
  },
  {
   "cell_type": "code",
   "execution_count": null,
   "metadata": {},
   "outputs": [],
   "source": []
  }
 ],
 "metadata": {
  "kernelspec": {
   "display_name": "Python 3 (ipykernel)",
   "language": "python",
   "name": "python3"
  },
  "language_info": {
   "codemirror_mode": {
    "name": "ipython",
    "version": 3
   },
   "file_extension": ".py",
   "mimetype": "text/x-python",
   "name": "python",
   "nbconvert_exporter": "python",
   "pygments_lexer": "ipython3",
   "version": "3.9.13"
  }
 },
 "nbformat": 4,
 "nbformat_minor": 4
}
