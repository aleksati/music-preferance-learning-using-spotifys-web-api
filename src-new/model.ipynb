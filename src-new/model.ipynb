{
 "cells": [
  {
   "cell_type": "code",
   "execution_count": 3,
   "id": "889d87c2",
   "metadata": {},
   "outputs": [],
   "source": [
    "import ast\n",
    "import pandas as pd\n",
    "import numpy as np\n",
    "import sklearn\n",
    "import joblib\n",
    "from sklearn.model_selection import train_test_split\n",
    "from sklearn.neural_network import MLPRegressor\n",
    "from sklearn.model_selection import cross_validate\n",
    "from sklearn.model_selection import RepeatedKFold, GridSearchCV\n",
    "from sklearn import preprocessing, decomposition, manifold\n",
    "from sklearn.discriminant_analysis import LinearDiscriminantAnalysis\n",
    "\n",
    "#plotting\n",
    "import matplotlib\n",
    "import matplotlib.pyplot as plt\n",
    "\n",
    "#3d plotting\n",
    "from mpl_toolkits.mplot3d import Axes3D\n",
    "#%matplotlib qt\n",
    "#plt.ion()"
   ]
  },
  {
   "cell_type": "markdown",
   "id": "632c4bf1",
   "metadata": {},
   "source": [
    "# Load dataset"
   ]
  },
  {
   "cell_type": "code",
   "execution_count": 7,
   "id": "4c78640c",
   "metadata": {},
   "outputs": [
    {
     "data": {
      "text/html": [
       "<div>\n",
       "<style scoped>\n",
       "    .dataframe tbody tr th:only-of-type {\n",
       "        vertical-align: middle;\n",
       "    }\n",
       "\n",
       "    .dataframe tbody tr th {\n",
       "        vertical-align: top;\n",
       "    }\n",
       "\n",
       "    .dataframe thead th {\n",
       "        text-align: right;\n",
       "    }\n",
       "</style>\n",
       "<table border=\"1\" class=\"dataframe\">\n",
       "  <thead>\n",
       "    <tr style=\"text-align: right;\">\n",
       "      <th></th>\n",
       "      <th>id</th>\n",
       "      <th>name</th>\n",
       "      <th>range</th>\n",
       "      <th>rating</th>\n",
       "      <th>id_copy</th>\n",
       "      <th>energy</th>\n",
       "      <th>danceability</th>\n",
       "      <th>loudness</th>\n",
       "      <th>valence</th>\n",
       "      <th>tempo</th>\n",
       "      <th>speechiness</th>\n",
       "      <th>acousticness</th>\n",
       "      <th>instrumentalness</th>\n",
       "      <th>duration_ms</th>\n",
       "      <th>time_signature</th>\n",
       "      <th>pitch_avg</th>\n",
       "      <th>timbre_avg</th>\n",
       "      <th>key_change_percentage</th>\n",
       "      <th>mode_avg</th>\n",
       "      <th>id_copy_2</th>\n",
       "    </tr>\n",
       "  </thead>\n",
       "  <tbody>\n",
       "    <tr>\n",
       "      <th>0</th>\n",
       "      <td>7L5IwfKB6W0tadcSh9wlyH</td>\n",
       "      <td>Ouverture</td>\n",
       "      <td>short_term</td>\n",
       "      <td>5.393939</td>\n",
       "      <td>7L5IwfKB6W0tadcSh9wlyH</td>\n",
       "      <td>0.3360</td>\n",
       "      <td>0.4960</td>\n",
       "      <td>-19.440</td>\n",
       "      <td>0.1850</td>\n",
       "      <td>129.006</td>\n",
       "      <td>0.0513</td>\n",
       "      <td>0.95500</td>\n",
       "      <td>0.912</td>\n",
       "      <td>322173</td>\n",
       "      <td>4</td>\n",
       "      <td>[0.27, 0.58, 0.21, 0.27, 0.18, 0.34, 0.26, 0.0...</td>\n",
       "      <td>[36.4, -140.17, -20.32, -18.11, 13.38, -37.86,...</td>\n",
       "      <td>75.000000</td>\n",
       "      <td>0.14</td>\n",
       "      <td>7L5IwfKB6W0tadcSh9wlyH</td>\n",
       "    </tr>\n",
       "    <tr>\n",
       "      <th>1</th>\n",
       "      <td>0tAZi3X7dUdd7m8OXB8pMA</td>\n",
       "      <td>Shadow</td>\n",
       "      <td>short_term</td>\n",
       "      <td>5.272727</td>\n",
       "      <td>0tAZi3X7dUdd7m8OXB8pMA</td>\n",
       "      <td>0.2750</td>\n",
       "      <td>0.0832</td>\n",
       "      <td>-15.256</td>\n",
       "      <td>0.0334</td>\n",
       "      <td>170.316</td>\n",
       "      <td>0.0347</td>\n",
       "      <td>0.88700</td>\n",
       "      <td>0.853</td>\n",
       "      <td>558267</td>\n",
       "      <td>1</td>\n",
       "      <td>[0.18, 0.26, 0.64, 0.5, 0.16, 0.26, 0.16, 0.21...</td>\n",
       "      <td>[40.29, -65.03, 29.6, -16.94, 3.88, -26.49, -1...</td>\n",
       "      <td>93.333333</td>\n",
       "      <td>0.86</td>\n",
       "      <td>0tAZi3X7dUdd7m8OXB8pMA</td>\n",
       "    </tr>\n",
       "    <tr>\n",
       "      <th>2</th>\n",
       "      <td>1XMDIKQbV30WJPKLMN6MKv</td>\n",
       "      <td>INSTRUCTION</td>\n",
       "      <td>short_term</td>\n",
       "      <td>4.969697</td>\n",
       "      <td>1XMDIKQbV30WJPKLMN6MKv</td>\n",
       "      <td>0.3550</td>\n",
       "      <td>0.4910</td>\n",
       "      <td>-12.480</td>\n",
       "      <td>0.0369</td>\n",
       "      <td>145.405</td>\n",
       "      <td>0.0354</td>\n",
       "      <td>0.38200</td>\n",
       "      <td>0.887</td>\n",
       "      <td>262733</td>\n",
       "      <td>4</td>\n",
       "      <td>[0.51, 0.26, 0.22, 0.12, 0.12, 0.2, 0.21, 0.39...</td>\n",
       "      <td>[38.23, -65.25, -37.01, -15.68, 9.7, -36.31, 2...</td>\n",
       "      <td>75.000000</td>\n",
       "      <td>0.36</td>\n",
       "      <td>1XMDIKQbV30WJPKLMN6MKv</td>\n",
       "    </tr>\n",
       "    <tr>\n",
       "      <th>3</th>\n",
       "      <td>1XZdwzd8DTDvkjVc0eJ9BI</td>\n",
       "      <td>Wildlife Analysis</td>\n",
       "      <td>short_term</td>\n",
       "      <td>4.909091</td>\n",
       "      <td>1XZdwzd8DTDvkjVc0eJ9BI</td>\n",
       "      <td>0.0204</td>\n",
       "      <td>0.1550</td>\n",
       "      <td>-31.212</td>\n",
       "      <td>0.2780</td>\n",
       "      <td>79.755</td>\n",
       "      <td>0.0462</td>\n",
       "      <td>0.99500</td>\n",
       "      <td>0.936</td>\n",
       "      <td>75627</td>\n",
       "      <td>4</td>\n",
       "      <td>[0.12, 0.06, 0.43, 0.1, 0.56, 0.08, 0.08, 0.16...</td>\n",
       "      <td>[28.95, -181.05, 81.47, 3.86, 94.46, -38.57, -...</td>\n",
       "      <td>0.000000</td>\n",
       "      <td>0.33</td>\n",
       "      <td>1XZdwzd8DTDvkjVc0eJ9BI</td>\n",
       "    </tr>\n",
       "    <tr>\n",
       "      <th>4</th>\n",
       "      <td>1f4cKwcKfNiLbQr8x2tZ3C</td>\n",
       "      <td>Melt!</td>\n",
       "      <td>short_term</td>\n",
       "      <td>4.848485</td>\n",
       "      <td>1f4cKwcKfNiLbQr8x2tZ3C</td>\n",
       "      <td>0.9190</td>\n",
       "      <td>0.7850</td>\n",
       "      <td>-13.059</td>\n",
       "      <td>0.4430</td>\n",
       "      <td>131.037</td>\n",
       "      <td>0.0552</td>\n",
       "      <td>0.00772</td>\n",
       "      <td>0.916</td>\n",
       "      <td>214307</td>\n",
       "      <td>4</td>\n",
       "      <td>[0.63, 0.68, 0.49, 0.41, 0.46, 0.5, 0.56, 0.53...</td>\n",
       "      <td>[36.82, 22.73, -62.74, 44.28, 36.1, -56.15, -1...</td>\n",
       "      <td>85.714286</td>\n",
       "      <td>0.56</td>\n",
       "      <td>1f4cKwcKfNiLbQr8x2tZ3C</td>\n",
       "    </tr>\n",
       "  </tbody>\n",
       "</table>\n",
       "</div>"
      ],
      "text/plain": [
       "                       id               name       range    rating  \\\n",
       "0  7L5IwfKB6W0tadcSh9wlyH          Ouverture  short_term  5.393939   \n",
       "1  0tAZi3X7dUdd7m8OXB8pMA             Shadow  short_term  5.272727   \n",
       "2  1XMDIKQbV30WJPKLMN6MKv        INSTRUCTION  short_term  4.969697   \n",
       "3  1XZdwzd8DTDvkjVc0eJ9BI  Wildlife Analysis  short_term  4.909091   \n",
       "4  1f4cKwcKfNiLbQr8x2tZ3C              Melt!  short_term  4.848485   \n",
       "\n",
       "                  id_copy  energy  danceability  loudness  valence    tempo  \\\n",
       "0  7L5IwfKB6W0tadcSh9wlyH  0.3360        0.4960   -19.440   0.1850  129.006   \n",
       "1  0tAZi3X7dUdd7m8OXB8pMA  0.2750        0.0832   -15.256   0.0334  170.316   \n",
       "2  1XMDIKQbV30WJPKLMN6MKv  0.3550        0.4910   -12.480   0.0369  145.405   \n",
       "3  1XZdwzd8DTDvkjVc0eJ9BI  0.0204        0.1550   -31.212   0.2780   79.755   \n",
       "4  1f4cKwcKfNiLbQr8x2tZ3C  0.9190        0.7850   -13.059   0.4430  131.037   \n",
       "\n",
       "   speechiness  acousticness  instrumentalness  duration_ms  time_signature  \\\n",
       "0       0.0513       0.95500             0.912       322173               4   \n",
       "1       0.0347       0.88700             0.853       558267               1   \n",
       "2       0.0354       0.38200             0.887       262733               4   \n",
       "3       0.0462       0.99500             0.936        75627               4   \n",
       "4       0.0552       0.00772             0.916       214307               4   \n",
       "\n",
       "                                           pitch_avg  \\\n",
       "0  [0.27, 0.58, 0.21, 0.27, 0.18, 0.34, 0.26, 0.0...   \n",
       "1  [0.18, 0.26, 0.64, 0.5, 0.16, 0.26, 0.16, 0.21...   \n",
       "2  [0.51, 0.26, 0.22, 0.12, 0.12, 0.2, 0.21, 0.39...   \n",
       "3  [0.12, 0.06, 0.43, 0.1, 0.56, 0.08, 0.08, 0.16...   \n",
       "4  [0.63, 0.68, 0.49, 0.41, 0.46, 0.5, 0.56, 0.53...   \n",
       "\n",
       "                                          timbre_avg  key_change_percentage  \\\n",
       "0  [36.4, -140.17, -20.32, -18.11, 13.38, -37.86,...              75.000000   \n",
       "1  [40.29, -65.03, 29.6, -16.94, 3.88, -26.49, -1...              93.333333   \n",
       "2  [38.23, -65.25, -37.01, -15.68, 9.7, -36.31, 2...              75.000000   \n",
       "3  [28.95, -181.05, 81.47, 3.86, 94.46, -38.57, -...               0.000000   \n",
       "4  [36.82, 22.73, -62.74, 44.28, 36.1, -56.15, -1...              85.714286   \n",
       "\n",
       "   mode_avg               id_copy_2  \n",
       "0      0.14  7L5IwfKB6W0tadcSh9wlyH  \n",
       "1      0.86  0tAZi3X7dUdd7m8OXB8pMA  \n",
       "2      0.36  1XMDIKQbV30WJPKLMN6MKv  \n",
       "3      0.33  1XZdwzd8DTDvkjVc0eJ9BI  \n",
       "4      0.56  1f4cKwcKfNiLbQr8x2tZ3C  "
      ]
     },
     "execution_count": 7,
     "metadata": {},
     "output_type": "execute_result"
    }
   ],
   "source": [
    "df_toptracks_features_analysis = pd.read_csv(\"./dataset/toptracks_ratings_features_analysis.csv\")\n",
    "df_toptracks_features_analysis"
   ]
  },
  {
   "cell_type": "markdown",
   "id": "3df22cd7",
   "metadata": {},
   "source": [
    "# Convert dataset to numpy array and clean/prepare for training"
   ]
  },
  {
   "cell_type": "code",
   "execution_count": 14,
   "id": "816537e6",
   "metadata": {},
   "outputs": [
    {
     "name": "stdout",
     "output_type": "stream",
     "text": [
      "(238, 15)\n",
      "(238,)\n"
     ]
    }
   ],
   "source": [
    "# convert dataframe rows into arrays. Every array in the 2d array is a row\n",
    "features = df_toptracks_features_analysis[\n",
    "    [\"name\", \"energy\", \"danceability\", \"loudness\", \"valence\", \"tempo\", \n",
    "     \"speechiness\", \"acousticness\", \"instrumentalness\", \"duration_ms\", \"time_signature\", \n",
    "     \"pitch_avg\", \"timbre_avg\", \"key_change_percentage\", \"mode_avg\"]].to_numpy()\n",
    "\n",
    "target = df_toptracks_features_analysis[\"rating\"]\n",
    "\n",
    "print(features.shape)\n",
    "print(target.shape)"
   ]
  },
  {
   "cell_type": "code",
   "execution_count": 15,
   "id": "2023855b",
   "metadata": {},
   "outputs": [
    {
     "data": {
      "text/plain": [
       "array([0, 0.336, 0.496, -19.44, 0.185, 129.006, 0.0513, 0.955, 0.912,\n",
       "       322173, 4,\n",
       "       '[0.27, 0.58, 0.21, 0.27, 0.18, 0.34, 0.26, 0.07, 0.08, 0.27, 0.57, 0.19]',\n",
       "       '[36.4, -140.17, -20.32, -18.11, 13.38, -37.86, 3.36, 1.33, -6.62, 3.97, -0.23, 9.65]',\n",
       "       75.0, 0.14], dtype=object)"
      ]
     },
     "execution_count": 15,
     "metadata": {},
     "output_type": "execute_result"
    }
   ],
   "source": [
    "# cleaned features\n",
    "features_cleaned = features\n",
    "\n",
    "# Substitute titles with integers\n",
    "for i in range(features_cleaned.shape[0]):\n",
    "    features_cleaned[i][0] = i\n",
    "\n",
    "features_cleaned[0]"
   ]
  },
  {
   "cell_type": "code",
   "execution_count": 17,
   "id": "5e50edba",
   "metadata": {},
   "outputs": [
    {
     "name": "stdout",
     "output_type": "stream",
     "text": [
      "[0 0.336 0.496 -19.44 0.185 129.006 0.0513 0.955 0.912 322173 4\n",
      " list([0.27, 0.58, 0.21, 0.27, 0.18, 0.34, 0.26, 0.07, 0.08, 0.27, 0.57, 0.19])\n",
      " list([36.4, -140.17, -20.32, -18.11, 13.38, -37.86, 3.36, 1.33, -6.62, 3.97, -0.23, 9.65])\n",
      " 75.0 0.14]\n",
      "[1 0.275 0.0832 -15.256 0.0334 170.316 0.0347 0.887 0.853 558267 1\n",
      " list([0.18, 0.26, 0.64, 0.5, 0.16, 0.26, 0.16, 0.21, 0.18, 0.24, 0.43, 0.27])\n",
      " list([40.29, -65.03, 29.6, -16.94, 3.88, -26.49, -13.53, -4.79, -7.63, -6.14, -3.13, -4.81])\n",
      " 93.33333333333331 0.86]\n"
     ]
    }
   ],
   "source": [
    "# convert the timbre and pitch vectors, which are actually strings in the dataframe imported, to lists again\n",
    "for row in range(features_cleaned.shape[0]):\n",
    "    for col in range(features_cleaned.shape[1]):\n",
    "        if type(features_cleaned[row][col]) == str:\n",
    "            features_cleaned[row][col] = ast.literal_eval(features_cleaned[row][col])\n",
    "\n",
    "print(features_cleaned[0])\n",
    "print(features_cleaned[1])"
   ]
  },
  {
   "cell_type": "code",
   "execution_count": 19,
   "id": "72ed1db6",
   "metadata": {},
   "outputs": [
    {
     "name": "stdout",
     "output_type": "stream",
     "text": [
      "(238, 37)\n",
      "[ 0.00000e+00  3.36000e-01  4.96000e-01 -1.94400e+01  1.85000e-01\n",
      "  1.29006e+02  5.13000e-02  9.55000e-01  9.12000e-01  3.22173e+05\n",
      "  4.00000e+00  2.70000e-01  5.80000e-01  2.10000e-01  2.70000e-01\n",
      "  1.80000e-01  3.40000e-01  2.60000e-01  7.00000e-02  8.00000e-02\n",
      "  2.70000e-01  5.70000e-01  1.90000e-01  3.64000e+01 -1.40170e+02\n",
      " -2.03200e+01 -1.81100e+01  1.33800e+01 -3.78600e+01  3.36000e+00\n",
      "  1.33000e+00 -6.62000e+00  3.97000e+00 -2.30000e-01  9.65000e+00\n",
      "  7.50000e+01  1.40000e-01]\n",
      "[ 1.00000000e+00  2.75000000e-01  8.32000000e-02 -1.52560000e+01\n",
      "  3.34000000e-02  1.70316000e+02  3.47000000e-02  8.87000000e-01\n",
      "  8.53000000e-01  5.58267000e+05  1.00000000e+00  1.80000000e-01\n",
      "  2.60000000e-01  6.40000000e-01  5.00000000e-01  1.60000000e-01\n",
      "  2.60000000e-01  1.60000000e-01  2.10000000e-01  1.80000000e-01\n",
      "  2.40000000e-01  4.30000000e-01  2.70000000e-01  4.02900000e+01\n",
      " -6.50300000e+01  2.96000000e+01 -1.69400000e+01  3.88000000e+00\n",
      " -2.64900000e+01 -1.35300000e+01 -4.79000000e+00 -7.63000000e+00\n",
      " -6.14000000e+00 -3.13000000e+00 -4.81000000e+00  9.33333333e+01\n",
      "  8.60000000e-01]\n"
     ]
    }
   ],
   "source": [
    "# unpack the timbre and pitch lists within the 2d features_cleaned object\n",
    "# and subesequently extent the coloumn size of the feature array.\n",
    "\n",
    "def flatten(x):\n",
    "    for item in x:\n",
    "        try:\n",
    "            #if x has a member (item) it means its a a list or array, therefore we feed the item back into the function.\n",
    "            yield from flatten(item)\n",
    "        #so if x has no members to iterate on (i.e its a float or integer), we return it (yield)\n",
    "        except TypeError:\n",
    "            yield item\n",
    "\n",
    "temp_features = np.empty([])\n",
    "for i in range(features_cleaned.shape[0]):\n",
    "    \n",
    "    # flatten row\n",
    "    row = list(flatten(features_cleaned[i]))\n",
    "    \n",
    "    # round all values in row to 2 decimals max\n",
    "    #row = [round(elem, 2) for elem in row]\n",
    "    \n",
    "    # make numpy array of row\n",
    "    row = np.array(row)\n",
    "    \n",
    "    # add them together\n",
    "    if i == 0:\n",
    "        temp_features = row\n",
    "    else:\n",
    "        temp_features = np.vstack((temp_features, row))\n",
    "\n",
    "# add to final variable\n",
    "features_cleaned = temp_features\n",
    "\n",
    "print(features_cleaned.shape)\n",
    "print(features_cleaned[0])\n",
    "print(features_cleaned[1])"
   ]
  },
  {
   "cell_type": "markdown",
   "id": "808a02e9",
   "metadata": {},
   "source": [
    "# Dimensionality reduction"
   ]
  },
  {
   "cell_type": "code",
   "execution_count": 20,
   "id": "67269c08",
   "metadata": {},
   "outputs": [
    {
     "name": "stdout",
     "output_type": "stream",
     "text": [
      "componenets needed:  10\n",
      "reached:  0.999999468782655 %\n"
     ]
    }
   ],
   "source": [
    "# First, find how many components I need for the dimentionalty reducction\n",
    "# to keep 99% of the variance in the dataset\n",
    "\n",
    "feat_variance = np.var(features_cleaned, axis=0).sum()\n",
    "\n",
    "for i in range(features_cleaned.shape[1]):\n",
    "        temp = np.var(features_cleaned[:,0:i+1], axis=0).sum()\n",
    "        percentage = temp/feat_variance\n",
    "        if percentage > 0.99:\n",
    "            print(\"components needed: \", i+1)\n",
    "            print(\"reached: \", percentage, \"%\")\n",
    "            break"
   ]
  },
  {
   "cell_type": "markdown",
   "id": "35bd12e2",
   "metadata": {},
   "source": [
    "### LDA"
   ]
  },
  {
   "cell_type": "code",
   "execution_count": null,
   "id": "ea0747a0",
   "metadata": {},
   "outputs": [],
   "source": [
    "components_needed = 10\n",
    "\n",
    "# lda instance with n-number of components\n",
    "lda = LinearDiscriminantAnalysis(n_components=components_needed)\n",
    "\n",
    "# pass/fit the lda model with the features and our target\n",
    "lda.fit(features_cleaned, target)\n",
    "\n",
    "features_projected = lda.transform(features_cleaned)\n",
    "\n",
    "print(projected_features.shape)"
   ]
  },
  {
   "cell_type": "code",
   "execution_count": null,
   "id": "c198f070",
   "metadata": {},
   "outputs": [],
   "source": [
    "# save dimred to file\n",
    "#joblib_file = \"dimred.pkl\"\n",
    "#joblib.dump(lda, joblib_file)"
   ]
  }
 ],
 "metadata": {
  "kernelspec": {
   "display_name": "Python 3 (ipykernel)",
   "language": "python",
   "name": "python3"
  },
  "language_info": {
   "codemirror_mode": {
    "name": "ipython",
    "version": 3
   },
   "file_extension": ".py",
   "mimetype": "text/x-python",
   "name": "python",
   "nbconvert_exporter": "python",
   "pygments_lexer": "ipython3",
   "version": "3.9.16"
  }
 },
 "nbformat": 4,
 "nbformat_minor": 5
}
