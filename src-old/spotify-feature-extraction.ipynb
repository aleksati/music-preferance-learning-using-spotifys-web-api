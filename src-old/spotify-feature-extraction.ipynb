{
 "cells": [
  {
   "cell_type": "code",
   "execution_count": 2,
   "metadata": {},
   "outputs": [],
   "source": [
    "#Analyze and extract various audio track features from multiple spotify playlists into one .csv file.  \n",
    "import spotipy\n",
    "import pandas as pd\n",
    "import json\n",
    "import itertools"
   ]
  },
  {
   "cell_type": "code",
   "execution_count": 3,
   "metadata": {},
   "outputs": [],
   "source": [
    "username = \"Aleksander Tidemann\"\n",
    "playlists = {\n",
    "    \"ja\" : \"2BY4yc5VgroCuO22NktiV0?si=FuDm_0VSQbO0zDigCtgomg\",\n",
    "    \"nei\" : \"0u50QEFaOhco85LsYbhdk1?si=PWX0899_TGuapmDhzLl2fg\"\n",
    "}\n",
    "\n",
    "#Authenticate my user from Spotify\n",
    "CLIENT_ID = \"5424fe3bb2b646c8a2144d03d41f22c7\"\n",
    "CLIENT_SECRET = \"f13ad8573f3444908afdf6a6199db827\"\n",
    "token = spotipy.oauth2.SpotifyClientCredentials(client_id=CLIENT_ID, client_secret=CLIENT_SECRET)\n",
    "sp = spotipy.Spotify(auth_manager=token)"
   ]
  },
  {
   "cell_type": "markdown",
   "metadata": {},
   "source": [
    "# Functions for gathering features"
   ]
  },
  {
   "cell_type": "markdown",
   "metadata": {},
   "source": [
    "## Collect scalar features, single numbers per song"
   ]
  },
  {
   "cell_type": "code",
   "execution_count": 4,
   "metadata": {},
   "outputs": [],
   "source": [
    "def analyze_features(playlist):\n",
    "    #variables specifying the features we want to extract and where to store them.\n",
    "    playlist_features = {}\n",
    "    playlist_features_list = [\"track_name\", \n",
    "                              \"duration_ms\", \"energy\", \"danceability\", \"loudness\", \"valence\", \"tempo\", \"time_signature\"]\n",
    "    df_playlist = pd.DataFrame(columns = playlist_features_list)\n",
    "\n",
    "    for track in playlist:\n",
    "        #Basic metadata\n",
    "        #playlist_features[\"artist\"] = track[\"track\"][\"album\"][\"artists\"][0][\"name\"]\n",
    "        #playlist_features[\"album\"] = track[\"track\"][\"album\"][\"name\"]\n",
    "        playlist_features[\"track_name\"] = track[\"track\"][\"name\"]\n",
    "\n",
    "        audio_features = sp.audio_features(track[\"track\"][\"id\"])[0]\n",
    "        for feature in playlist_features_list[1:]:\n",
    "            playlist_features[feature] = audio_features[feature]\n",
    "\n",
    "        #store and concatonate in dataframes\n",
    "        track_df = pd.DataFrame(playlist_features, index=[0])\n",
    "        df_playlist = pd.concat([df_playlist, track_df], ignore_index=True)\n",
    "        \n",
    "    return df_playlist"
   ]
  },
  {
   "cell_type": "markdown",
   "metadata": {},
   "source": [
    "## Collect vectorial and scalar features, multiple values times per track"
   ]
  },
  {
   "cell_type": "code",
   "execution_count": 5,
   "metadata": {},
   "outputs": [],
   "source": [
    "def analyze_analysis(playlist, df_features):\n",
    "    #Dicts specifying the analysis features we want to extract, and a dict to store them in. \n",
    "    #The is dynamic so audio features can be added if wanted. Complete list avaliable at:\n",
    "    #https://developer.spotify.com/documentation/web-api/reference/tracks/get-audio-analysis/\n",
    "    analysis_features_gathered = {}\n",
    "    analysis_feature_list = {\n",
    "        \"segments\" : [\n",
    "            \"pitches\",\n",
    "            \"timbre\"\n",
    "        ],\n",
    "        \"sections\" : [\n",
    "            \"key\",\n",
    "            \"mode\"\n",
    "        ]\n",
    "    }\n",
    "\n",
    "    #Colunm names and framwork for our final dataframe\n",
    "    framework = []\n",
    "    for i, (key, val) in enumerate(analysis_feature_list.items()):\n",
    "        for idx in range(len(val)):\n",
    "            framework.append(val[idx])\n",
    "    df_framework = pd.DataFrame(columns=framework)\n",
    "\n",
    "    for count, track in enumerate(playlist):\n",
    "        #First store the track duration in milliseconds\n",
    "        track_dur = df_features[\"duration_ms\"][count]\n",
    "        \n",
    "        #gather the desired values (expressed in the analysis_feature_list) from each track \n",
    "        #and store them in our new analysis_features_gathered dictionary.\n",
    "        audio_analysis = sp.audio_analysis(track[\"track\"][\"id\"])\n",
    "        for i, (key, val) in enumerate(analysis_feature_list.items()):\n",
    "            for item in range(len(val)):\n",
    "                #Initialize the key to the correct type. Always store within list.\n",
    "                analysis_features_gathered[val[item]] = []  \n",
    "                for x, (y, z) in enumerate(audio_analysis.items()):\n",
    "                    if y == key:\n",
    "                        for w in range(len(z)):\n",
    "                            analysis_features_gathered[val[item]].append(z[w][val[item]])\n",
    "                            \n",
    "        #Now we want to configure and calculate different kinds of averages of the lists and numbers\n",
    "        #we have gathered per segment and section of each track.\n",
    "        for i, (key, val) in enumerate(analysis_features_gathered.items()):\n",
    "            p = []\n",
    "            if type(val[0]) == list: #and is therefore ONLY either timbre or pitch in the segment key. else it would be an int or float.\n",
    "                for w in range(len(val[0])):\n",
    "                    store = []\n",
    "                    for item in val:\n",
    "                        store.append(item[w])\n",
    "                    p.append(round(sum(store) / len(store), 2))\n",
    "                analysis_features_gathered[key] = []\n",
    "                analysis_features_gathered[key].append(p)\n",
    "            else:\n",
    "                if key == \"key\":\n",
    "                    #precentage value indicating how many key changes happen in the track, based on its duration.\n",
    "                    val = [k for k, g in itertools.groupby(val)] #remove consecutive duplicate values.\n",
    "                    ms_per_chord_change = track_dur/len(val) #how many miliseconds per chord change on average.\n",
    "                    change_percentage = (100/track_dur)*ms_per_chord_change\n",
    "                    p.append(abs(change_percentage-100)) #invert values for a more intuitive reading.\n",
    "                    analysis_features_gathered[key] = p\n",
    "                else:\n",
    "                    p.append(round(sum(val)/len(val), 2))\n",
    "                    analysis_features_gathered[key] = p\n",
    "\n",
    "        #store and concatonate in dataframes\n",
    "        df_analysis_features = pd.DataFrame(analysis_features_gathered)\n",
    "        df_framework = pd.concat([df_framework, df_analysis_features], ignore_index=True)\n",
    "    \n",
    "    return df_framework"
   ]
  },
  {
   "cell_type": "markdown",
   "metadata": {},
   "source": [
    "# Gather the specified features from the Spotify playlists"
   ]
  },
  {
   "cell_type": "code",
   "execution_count": 6,
   "metadata": {},
   "outputs": [],
   "source": [
    "def main(playlist_dict):\n",
    "    #gather items from multiple playlists into one dataframe.\n",
    "    for i, (key, val) in enumerate(playlist_dict.items()):\n",
    "        playlist = sp.user_playlist(username, val)[\"tracks\"][\"items\"]\n",
    "        df_playlist_features = analyze_features(playlist)\n",
    "        df_playlist_analysis = analyze_analysis(playlist, df_playlist_features) #ADD THE PREVIOUS DATAFRAME HERE.\n",
    "        df_analysis_combined = pd.concat([df_playlist_features, df_playlist_analysis], ignore_index=False, axis=1)\n",
    "        \n",
    "        #rename some coloumns\n",
    "        df_analysis_combined = df_analysis_combined.rename(columns = {\"pitches\": \"pitch_avg\", \n",
    "                                                                      \"timbre\" : \"timbre_avg\", \n",
    "                                                                      \"key\": \"key_change_percentage\", \n",
    "                                                                      \"mode\": \"mode_avg\"}, inplace=False)\n",
    "        #Add playlist key\n",
    "        df_analysis_combined['playlist'] = key\n",
    "        \n",
    "        if i == 0:\n",
    "            playlist_dict_df = df_analysis_combined\n",
    "        else:\n",
    "            playlist_dict_df = pd.concat([playlist_dict_df, df_analysis_combined], ignore_index=True)\n",
    "            \n",
    "    return playlist_dict_df"
   ]
  },
  {
   "cell_type": "markdown",
   "metadata": {},
   "source": [
    "# Collect the features and export to file"
   ]
  },
  {
   "cell_type": "code",
   "execution_count": 7,
   "metadata": {},
   "outputs": [
    {
     "ename": "SpotifyException",
     "evalue": "http status: 400, code:-1 - Unsupported URL / URI., reason: None",
     "output_type": "error",
     "traceback": [
      "\u001b[1;31m---------------------------------------------------------------------------\u001b[0m",
      "\u001b[1;31mSpotifyException\u001b[0m                          Traceback (most recent call last)",
      "\u001b[1;32m~\\AppData\\Local\\Temp\\ipykernel_21596\\2985509039.py\u001b[0m in \u001b[0;36m<module>\u001b[1;34m\u001b[0m\n\u001b[1;32m----> 1\u001b[1;33m \u001b[0mdf_multiple_playlists\u001b[0m \u001b[1;33m=\u001b[0m \u001b[0mmain\u001b[0m\u001b[1;33m(\u001b[0m\u001b[0mplaylists\u001b[0m\u001b[1;33m)\u001b[0m\u001b[1;33m\u001b[0m\u001b[1;33m\u001b[0m\u001b[0m\n\u001b[0m\u001b[0;32m      2\u001b[0m \u001b[0mdf_multiple_playlists\u001b[0m\u001b[1;33m.\u001b[0m\u001b[0mhead\u001b[0m\u001b[1;33m(\u001b[0m\u001b[1;33m)\u001b[0m\u001b[1;33m\u001b[0m\u001b[1;33m\u001b[0m\u001b[0m\n\u001b[0;32m      3\u001b[0m \u001b[1;31m# df_multiple_playlists.to_csv(r\"./datasets/bach.csv\", index=False)\u001b[0m\u001b[1;33m\u001b[0m\u001b[1;33m\u001b[0m\u001b[0m\n\u001b[0;32m      4\u001b[0m \u001b[1;33m\u001b[0m\u001b[0m\n\u001b[0;32m      5\u001b[0m \u001b[1;31m# A nice way to view dictionary data. inspect the raw datax\u001b[0m\u001b[1;33m\u001b[0m\u001b[1;33m\u001b[0m\u001b[0m\n",
      "\u001b[1;32m~\\AppData\\Local\\Temp\\ipykernel_21596\\1206199902.py\u001b[0m in \u001b[0;36mmain\u001b[1;34m(playlist_dict)\u001b[0m\n\u001b[0;32m      2\u001b[0m     \u001b[1;31m#gather items from multiple playlists into one dataframe.\u001b[0m\u001b[1;33m\u001b[0m\u001b[1;33m\u001b[0m\u001b[0m\n\u001b[0;32m      3\u001b[0m     \u001b[1;32mfor\u001b[0m \u001b[0mi\u001b[0m\u001b[1;33m,\u001b[0m \u001b[1;33m(\u001b[0m\u001b[0mkey\u001b[0m\u001b[1;33m,\u001b[0m \u001b[0mval\u001b[0m\u001b[1;33m)\u001b[0m \u001b[1;32min\u001b[0m \u001b[0menumerate\u001b[0m\u001b[1;33m(\u001b[0m\u001b[0mplaylist_dict\u001b[0m\u001b[1;33m.\u001b[0m\u001b[0mitems\u001b[0m\u001b[1;33m(\u001b[0m\u001b[1;33m)\u001b[0m\u001b[1;33m)\u001b[0m\u001b[1;33m:\u001b[0m\u001b[1;33m\u001b[0m\u001b[1;33m\u001b[0m\u001b[0m\n\u001b[1;32m----> 4\u001b[1;33m         \u001b[0mplaylist\u001b[0m \u001b[1;33m=\u001b[0m \u001b[0msp\u001b[0m\u001b[1;33m.\u001b[0m\u001b[0muser_playlist\u001b[0m\u001b[1;33m(\u001b[0m\u001b[0musername\u001b[0m\u001b[1;33m,\u001b[0m \u001b[0mval\u001b[0m\u001b[1;33m)\u001b[0m\u001b[1;33m[\u001b[0m\u001b[1;34m\"tracks\"\u001b[0m\u001b[1;33m]\u001b[0m\u001b[1;33m[\u001b[0m\u001b[1;34m\"items\"\u001b[0m\u001b[1;33m]\u001b[0m\u001b[1;33m\u001b[0m\u001b[1;33m\u001b[0m\u001b[0m\n\u001b[0m\u001b[0;32m      5\u001b[0m         \u001b[0mdf_playlist_features\u001b[0m \u001b[1;33m=\u001b[0m \u001b[0manalyze_features\u001b[0m\u001b[1;33m(\u001b[0m\u001b[0mplaylist\u001b[0m\u001b[1;33m)\u001b[0m\u001b[1;33m\u001b[0m\u001b[1;33m\u001b[0m\u001b[0m\n\u001b[0;32m      6\u001b[0m         \u001b[0mdf_playlist_analysis\u001b[0m \u001b[1;33m=\u001b[0m \u001b[0manalyze_analysis\u001b[0m\u001b[1;33m(\u001b[0m\u001b[0mplaylist\u001b[0m\u001b[1;33m,\u001b[0m \u001b[0mdf_playlist_features\u001b[0m\u001b[1;33m)\u001b[0m \u001b[1;31m#ADD THE PREVIOUS DATAFRAME HERE.\u001b[0m\u001b[1;33m\u001b[0m\u001b[1;33m\u001b[0m\u001b[0m\n",
      "\u001b[1;32m~\\anaconda3\\lib\\site-packages\\spotipy\\client.py\u001b[0m in \u001b[0;36muser_playlist\u001b[1;34m(self, user, playlist_id, fields, market)\u001b[0m\n\u001b[0;32m    753\u001b[0m         \u001b[1;32mif\u001b[0m \u001b[0mplaylist_id\u001b[0m \u001b[1;32mis\u001b[0m \u001b[1;32mNone\u001b[0m\u001b[1;33m:\u001b[0m\u001b[1;33m\u001b[0m\u001b[1;33m\u001b[0m\u001b[0m\n\u001b[0;32m    754\u001b[0m             \u001b[1;32mreturn\u001b[0m \u001b[0mself\u001b[0m\u001b[1;33m.\u001b[0m\u001b[0m_get\u001b[0m\u001b[1;33m(\u001b[0m\u001b[1;34m\"users/%s/starred\"\u001b[0m \u001b[1;33m%\u001b[0m \u001b[0muser\u001b[0m\u001b[1;33m)\u001b[0m\u001b[1;33m\u001b[0m\u001b[1;33m\u001b[0m\u001b[0m\n\u001b[1;32m--> 755\u001b[1;33m         \u001b[1;32mreturn\u001b[0m \u001b[0mself\u001b[0m\u001b[1;33m.\u001b[0m\u001b[0mplaylist\u001b[0m\u001b[1;33m(\u001b[0m\u001b[0mplaylist_id\u001b[0m\u001b[1;33m,\u001b[0m \u001b[0mfields\u001b[0m\u001b[1;33m=\u001b[0m\u001b[0mfields\u001b[0m\u001b[1;33m,\u001b[0m \u001b[0mmarket\u001b[0m\u001b[1;33m=\u001b[0m\u001b[0mmarket\u001b[0m\u001b[1;33m)\u001b[0m\u001b[1;33m\u001b[0m\u001b[1;33m\u001b[0m\u001b[0m\n\u001b[0m\u001b[0;32m    756\u001b[0m \u001b[1;33m\u001b[0m\u001b[0m\n\u001b[0;32m    757\u001b[0m     def user_playlist_tracks(\n",
      "\u001b[1;32m~\\anaconda3\\lib\\site-packages\\spotipy\\client.py\u001b[0m in \u001b[0;36mplaylist\u001b[1;34m(self, playlist_id, fields, market, additional_types)\u001b[0m\n\u001b[0;32m    648\u001b[0m                                      \u001b[0mvalid\u001b[0m \u001b[0mtypes\u001b[0m \u001b[0mare\u001b[0m\u001b[1;33m:\u001b[0m \u001b[0mtrack\u001b[0m \u001b[1;32mand\u001b[0m \u001b[0mepisode\u001b[0m\u001b[1;33m\u001b[0m\u001b[1;33m\u001b[0m\u001b[0m\n\u001b[0;32m    649\u001b[0m         \"\"\"\n\u001b[1;32m--> 650\u001b[1;33m         \u001b[0mplid\u001b[0m \u001b[1;33m=\u001b[0m \u001b[0mself\u001b[0m\u001b[1;33m.\u001b[0m\u001b[0m_get_id\u001b[0m\u001b[1;33m(\u001b[0m\u001b[1;34m\"playlist\"\u001b[0m\u001b[1;33m,\u001b[0m \u001b[0mplaylist_id\u001b[0m\u001b[1;33m)\u001b[0m\u001b[1;33m\u001b[0m\u001b[1;33m\u001b[0m\u001b[0m\n\u001b[0m\u001b[0;32m    651\u001b[0m         return self._get(\n\u001b[0;32m    652\u001b[0m             \u001b[1;34m\"playlists/%s\"\u001b[0m \u001b[1;33m%\u001b[0m \u001b[1;33m(\u001b[0m\u001b[0mplid\u001b[0m\u001b[1;33m)\u001b[0m\u001b[1;33m,\u001b[0m\u001b[1;33m\u001b[0m\u001b[1;33m\u001b[0m\u001b[0m\n",
      "\u001b[1;32m~\\anaconda3\\lib\\site-packages\\spotipy\\client.py\u001b[0m in \u001b[0;36m_get_id\u001b[1;34m(self, type, id)\u001b[0m\n\u001b[0;32m   1988\u001b[0m \u001b[1;33m\u001b[0m\u001b[0m\n\u001b[0;32m   1989\u001b[0m         \u001b[1;31m# TODO change to a ValueError in v3\u001b[0m\u001b[1;33m\u001b[0m\u001b[1;33m\u001b[0m\u001b[0m\n\u001b[1;32m-> 1990\u001b[1;33m         \u001b[1;32mraise\u001b[0m \u001b[0mSpotifyException\u001b[0m\u001b[1;33m(\u001b[0m\u001b[1;36m400\u001b[0m\u001b[1;33m,\u001b[0m \u001b[1;33m-\u001b[0m\u001b[1;36m1\u001b[0m\u001b[1;33m,\u001b[0m \u001b[1;34m\"Unsupported URL / URI.\"\u001b[0m\u001b[1;33m)\u001b[0m\u001b[1;33m\u001b[0m\u001b[1;33m\u001b[0m\u001b[0m\n\u001b[0m\u001b[0;32m   1991\u001b[0m \u001b[1;33m\u001b[0m\u001b[0m\n\u001b[0;32m   1992\u001b[0m     \u001b[1;32mdef\u001b[0m \u001b[0m_get_uri\u001b[0m\u001b[1;33m(\u001b[0m\u001b[0mself\u001b[0m\u001b[1;33m,\u001b[0m \u001b[0mtype\u001b[0m\u001b[1;33m,\u001b[0m \u001b[0mid\u001b[0m\u001b[1;33m)\u001b[0m\u001b[1;33m:\u001b[0m\u001b[1;33m\u001b[0m\u001b[1;33m\u001b[0m\u001b[0m\n",
      "\u001b[1;31mSpotifyException\u001b[0m: http status: 400, code:-1 - Unsupported URL / URI., reason: None"
     ]
    }
   ],
   "source": [
    "df_multiple_playlists = main(playlists)\n",
    "df_multiple_playlists.head()\n",
    "# df_multiple_playlists.to_csv(r\"./datasets/bach.csv\", index=False)\n",
    "\n",
    "# A nice way to view dictionary data. inspect the raw datax \n",
    "#print(json.dumps(track, indent=4 sort_keys=True))"
   ]
  },
  {
   "cell_type": "markdown",
   "metadata": {},
   "source": [
    "# Create the rating/target of each track in a seperate dataset"
   ]
  },
  {
   "cell_type": "code",
   "execution_count": 7,
   "metadata": {},
   "outputs": [
    {
     "name": "stdout",
     "output_type": "stream",
     "text": [
      "Rating of \"Concerto No. 4 in G major, BWV 1049: II. Andante\" in playlist \"ja\" : 7\n",
      "Rating of \"Violin Concerto in A Minor, BWV 1041: II. Andante\" in playlist \"ja\" : 8\n",
      "Rating of \"Mass in B Minor, BWV 232: Agnus Dei: Agnus Dei (Alto)\" in playlist \"ja\" : 7\n",
      "Rating of \"The Well-Tempered Clavier,BWV 846: Prelude I in C Major\" in playlist \"ja\" : 8\n",
      "Rating of \"Bach: Fugee, BWV 543\" in playlist \"ja\" : 8\n",
      "Rating of \"Matthäus Passion, BWV 244: Recitativo, \"Da hub er an, sich zu verfluchen\"\" in playlist \"ja\" : 8\n",
      "Rating of \"Matthäus Passion, BWV 244: Aria, \"Erbarme dich\"\" in playlist \"ja\" : 9\n",
      "Rating of \"Suite No.3 In D, BWV 1068: 2. Air\" in playlist \"ja\" : 9\n",
      "Rating of \"Gottes Zeit ist die allerbeste Zeit, Sonatina az \"Actus tragicus\"-ból, BWV 106\" in playlist \"ja\" : 7\n",
      "Rating of \"Bach, JS: Concerto for 4 Pianos in A Minor, BWV 1065: II. Largo\" in playlist \"ja\" : 7\n",
      "Rating of \"Goldberg Variations, BWV 988: Aria\" in playlist \"ja\" : 8\n",
      "Rating of \"Fugue, In C Minor, BWV 961\" in playlist \"ja\" : 7\n",
      "Rating of \"Toccata and Fugue in D minor\" in playlist \"ja\" : 7\n",
      "Rating of \"Concerto in D Minor, BWV 974: 2. Adagio\" in playlist \"ja\" : 7\n",
      "Rating of \"Concerto in D Minor, BWV 974: 3. Presto\" in playlist \"ja\" : 7\n",
      "Rating of \"Widerstehe doch der Sünde, BWV 54 (Transcr. by Víkingur Ólafsson)\" in playlist \"ja\" : 8\n",
      "Rating of \"Ich ruf zu dir, Herr Jesu Christ, BWV 639\" in playlist \"ja\" : 9\n",
      "Rating of \"Wachet auf, ruft uns die Stimme, BWV 645\" in playlist \"ja\" : 9\n",
      "Rating of \"Flute Sonata in E Minor, BWV 1034: III. Andante\" in playlist \"ja\" : 6\n",
      "Rating of \"Wenn wir in höchsten Nöten sein, BWV 641\" in playlist \"ja\" : 7\n",
      "Rating of \"Das alte Jahr vergangen ist, BWV 614\" in playlist \"ja\" : 8\n",
      "Rating of \"Orchestral Suite No. 2 in B Minor, BWV 1067: VII. Badinerie\" in playlist \"ja\" : 6\n",
      "Rating of \"Sonata in E-Flat, BWV 1031: Siciliana\" in playlist \"ja\" : 8\n",
      "Rating of \"Italian Concerto in F Major, BWV 971: I. -\" in playlist \"ja\" : 6\n",
      "Rating of \"Keyboard Concerto No. 5 in F Minor, BWV 1056: II. Largo\" in playlist \"ja\" : 7\n",
      "Rating of \"Passacaglia in C minor, BWV 582\" in playlist \"ja\" : 8\n",
      "Rating of \"Nun komm, der Heiden Heiland, BWV 659 - Arranged For Piano By Wilhelm Kempff\" in playlist \"ja\" : 6\n",
      "Rating of \"Concerto For Harpsichord, Strings, And Continuo No.5 In F Minor, BWV 1056 - Arranged by Wilhelm Kempff: Largo\" in playlist \"ja\" : 7\n",
      "Rating of \"Jesus bleibet meine Freude, BWV 147/6 (Cantata 147, Herz und Mund und Tat und Leben)\" in playlist \"ja\" : 9\n",
      "Rating of \"Prelude for Lute in C Minor, BWV 999\" in playlist \"ja\" : 9\n",
      "Rating of \"Bach, J.S.: Violin Partita No. 2 in D Minor, BWV 1004: V. Chaconne\" in playlist \"ja\" : 6\n",
      "Rating of \"Goldberg Variations, BWV 988: Variation 1 a 1 Clav.\" in playlist \"ja\" : 8\n",
      "Rating of \"Goldberg Variations, BWV 988: Variation 3 a 1 Clav. Canone all'Unisono\" in playlist \"ja\" : 6\n",
      "Rating of \"Bach: Partita in A Minor, BWV 1013: I. Allemande\" in playlist \"ja\" : 7\n",
      "Rating of \"Sonata No.2 In E Flat Major, BWV 1031: 2. Siciliano\" in playlist \"ja\" : 8\n",
      "Rating of \"Die Kunst der Fuga, BWV 1080: I. Fuga simplex rectus, BWV 1080/1\" in playlist \"ja\" : 8\n",
      "Rating of \"St. Matthew Passion, BWV 244, Pt. 1: No. 3, Herzliebster Jesu, was hast du verbrochen (Live)\" in playlist \"ja\" : 7\n",
      "Rating of \"O Welt, sieh' hier dein Leben, BWV 395\" in playlist \"ja\" : 6\n",
      "Rating of \"Concerto in F major, BWV 978 (from Vivaldi RV 310) - Arr. for harp and orchestra by N.Zabaleta: 3. Allegro\" in playlist \"ja\" : 7\n",
      "Rating of \"In dich hab' ich gehoffet, Herr, BWV 640\" in playlist \"ja\" : 7\n",
      "Rating of \"Fantasia & Fugue In A Minor, BWV 944: Fantasia\" in playlist \"ja\" : 8\n",
      "Rating of \"Suite In E Minor, BWV 996 - Transp. In G Minor: 5. Bourrée\" in playlist \"ja\" : 8\n",
      "Rating of \"Suite No.2 In B Minor, BWV 1067: 7. Menuet\" in playlist \"ja\" : 7\n",
      "Rating of \"Prelude & Fugue in C Minor (Well-Tempered Clavier, Book I, No. 2), BWV 847: 1. Prelude\" in playlist \"ja\" : 9\n",
      "Rating of \"Cello Suite No. 1 in G Major, BWV 1007: I. Prélude\" in playlist \"ja\" : 6\n",
      "Rating of \"Goldberg Variations, BWV 988: Variatio 21 Canone alla Settima. (a 1 Clav.)\" in playlist \"ja\" : 7\n",
      "Rating of \"Orgelbüchlein: 5. Puer natus in Bethlehem, BWV 603\" in playlist \"ja\" : 6\n",
      "Rating of \"Erbarm dich mein, o Herre Gott, BWV 721 (Arr. A. Balio for Trumpet & Organ)\" in playlist \"ja\" : 7\n",
      "Rating of \"Toccata And Fugue In D Minor, BWV 538 \"Dorian\": 1. (Toccata)\" in playlist \"ja\" : 7\n",
      "Rating of \"Concerto in F major, BWV 978 (from Vivaldi RV 310) - Arr. for harp and orchestra by N.Zabaleta: 2. Largo\" in playlist \"ja\" : 9\n",
      "Rating of \"Lute Suite in E Minor, BWV 996 (Arr. J. Williams for Guitar): IV. Sarabande\" in playlist \"nei\" : 4\n",
      "Rating of \"Violin Partita No. 3 in E Major, BWV 1006: I. Preludio\" in playlist \"nei\" : 4\n",
      "Rating of \"Suite for Cello Solo No.6 in D, BWV 1012: 5. Gavotte I-II\" in playlist \"nei\" : 2\n",
      "Rating of \"Sonata for Viola da Gamba No. 3 in G Minor, BWV 1029: II. Adagio\" in playlist \"nei\" : 3\n",
      "Rating of \"Erster Teil - Jauchzet, Frohlocket, Auf, Preiset Die Tage: Aria (Bass) - Großer Herr, O Starker König (Bach)\" in playlist \"nei\" : 2\n",
      "Rating of \"St. Matthew Passion, BWV 244: Pt. I: No. 1, Chorus. Kommt, ihr Tochter, helft mir klagen (Chorus, Soprano in ripieno)\" in playlist \"nei\" : 5\n",
      "Rating of \"Organ Sonata No. 4, BWV 528: 2. Andante [Adagio] (Transcr. by August Stradal)\" in playlist \"nei\" : 4\n",
      "Rating of \"Concerto in D Minor for Two Violins, BWV 1043: Concerto in D Minor for Two Violins, BWV 1043: I. Vivace\" in playlist \"nei\" : 3\n",
      "Rating of \"Flute Sonata in C Major, BWV 1033: II. Allegro\" in playlist \"nei\" : 3\n",
      "Rating of \"Goldberg Variations, BWV 988: Variation 4 a 1 Clav.\" in playlist \"nei\" : 3\n",
      "Rating of \"Goldberg Variations, BWV 988: Variation 5 a 1 ovvero 2 Clav.\" in playlist \"nei\" : 2\n",
      "Rating of \"Goldberg Variations, BWV 988: Variation 9 a 1 Clav. Canone alla Terza\" in playlist \"nei\" : 2\n",
      "Rating of \"Goldberg Variations, BWV 988: Variation 14 a 2 Clav.\" in playlist \"nei\" : 3\n",
      "Rating of \"Cello Suite No. 1 in G Major, BWV 1007: I. Prélude\" in playlist \"nei\" : 4\n",
      "Rating of \"Weihnachts-Oratorium, BWV 248, Pt. 2: Schlafe, mein Liebster\" in playlist \"nei\" : 2\n",
      "Rating of \"Harpsichord Concerto in E Major, BWV 1053: I. Allegro\" in playlist \"nei\" : 4\n",
      "Rating of \"Weihnachts-Oratorium, BWV 248, Pt. 1: Jauchzet, frohlocket\" in playlist \"nei\" : 2\n",
      "Rating of \"Nun danket alle Gott BWV 386\" in playlist \"nei\" : 3\n",
      "Rating of \"Concerto in D Minor for Two Violins, BWV 1043: Concerto in D Minor for Two Violins, BWV 1043: II. Largo ma non tanto\" in playlist \"nei\" : 4\n",
      "Rating of \"Goldberg Variations, BWV 988: Variatio 7 a 1 ovvero 2 Clav. Al tempo di Giga\" in playlist \"nei\" : 3\n",
      "Rating of \"Prelude No. 3 in C# Major from The Well-Tempered Clavier Book I, BWV 848\" in playlist \"nei\" : 3\n",
      "Rating of \"Keyboard Concerto in A Major, BWV 1055: I. Allegro\" in playlist \"nei\" : 4\n",
      "Rating of \"Brandenburg Concerto No. 3 in G Major, BWV 1048: II. [Adagio]\" in playlist \"nei\" : 5\n",
      "Rating of \"Mass in B Minor, BWV 232: Sanctus & Benedictus - Sanctus (Chorus)\" in playlist \"nei\" : 3\n",
      "Rating of \"Brandenburg Concerto No. 3 in G Major, BWV 1048: I. [Allegro]\" in playlist \"nei\" : 3\n",
      "Rating of \"Brandenburg Concerto No.5 in D, BWV 1050: 1. Allegro\" in playlist \"nei\" : 3\n",
      "Rating of \"Sonata No. 2 for Violin & Harpsichord in A Major, BWV 1015: IV. Presto\" in playlist \"nei\" : 4\n",
      "Rating of \"Keyboard Concerto No. 5 in F Minor, BWV 1056: I. [Allegro]\" in playlist \"nei\" : 4\n",
      "Rating of \"The Well-Tempered Clavier, Book 2: Prelude No. 1 in C Major, BWV 870/1\" in playlist \"nei\" : 5\n",
      "Rating of \"The Well-Tempered Clavier, Book 2: Fugue No. 22 in B-Flat Minor, BWV 891/2\" in playlist \"nei\" : 2\n",
      "Rating of \"Suite No.2 In B Minor, BWV 1067: 2. Rondeau\" in playlist \"nei\" : 4\n",
      "Rating of \"Suite No.2 In B Minor, BWV 1067: 6. Polonaise - 6a. Double\" in playlist \"nei\" : 4\n",
      "Rating of \"Brandenburg Concerto No.5 in D, BWV 1050: 2. Affetuoso\" in playlist \"nei\" : 4\n",
      "Rating of \"Aria mit 30 Veränderungen, BWV 988 \"Goldberg Variations\": Var. 23 a 2 Clav.\" in playlist \"nei\" : 3\n",
      "Rating of \"Partita No. 1 in B-Flat Major, BWV 825: I. Prelude\" in playlist \"nei\" : 3\n",
      "Rating of \"Aria mit 30 Veränderungen, BWV 988 \"Goldberg Variations\" - Arranged for String Trio by Dmitry Sitkovetsky: Var. 20 a 2 Clav.\" in playlist \"nei\" : 3\n",
      "Rating of \"The Well-Tempered Clavier: Book 1, BWV 846-869: Prelude in D Major, BWV 850 (Arr. Badzura)\" in playlist \"nei\" : 4\n"
     ]
    },
    {
     "name": "stdout",
     "output_type": "stream",
     "text": [
      "Rating of \"Aria mit 30 Veränderungen, BWV 988 \"Goldberg Variations\" - Arranged for String Trio by Dmitry Sitkovetsky: Var. 8 a 2 Clav.\" in playlist \"nei\" : 3\n",
      "Rating of \"Mache dich, mein Geist, bereit, BWV 115: IV. Air \"Bete aber auch dabei\"\" in playlist \"nei\" : 3\n",
      "Rating of \"French Suite No.2 in C minor, BWV 813: 4. Air\" in playlist \"nei\" : 5\n",
      "Rating of \"Jauchzet Gott in allen Landen Cantata, BWV 51 (Additional Instrumentation By W.F. Bach): 1. \"Jauchzet Gott in allen Landen\"\" in playlist \"nei\" : 2\n",
      "Rating of \"Von Himmel hoch, da komm' ich her, BWV 606\" in playlist \"nei\" : 4\n",
      "Rating of \"Jesu meine Freude Motet, BWV 227: So nun der Geist\" in playlist \"nei\" : 5\n",
      "Rating of \"Aria mit 30 Veränderungen, BWV 988 \"Goldberg Variations\" - Arranged for String Trio by Dmitry Sitkovetsky: Var. 18 Canone alla Sesta a 1 Clav.\" in playlist \"nei\" : 3\n",
      "Rating of \"Aria mit 30 Veränderungen, BWV 988 \"Goldberg Variations\" - Arranged for Harp by Catrin Finch: Var. 22 Alla breve a 1 Clav.\" in playlist \"nei\" : 3\n",
      "Rating of \"Cello Suite No. 1 in G Major, BWV 1007: III. Courante\" in playlist \"nei\" : 3\n",
      "Rating of \"Cello Suite No. 1 in G Major, BWV 1007: V. Menuetts I & II\" in playlist \"nei\" : 3\n",
      "Rating of \"French Suite No.4 in E flat, BWV 815: 1. Allemande\" in playlist \"nei\" : 4\n",
      "Rating of \"Suite for Cello Solo No.1 in G, BWV 1007 - Transcribed for Solo Guitar by Göran Söllscher: 6. Gigue\" in playlist \"nei\" : 4\n",
      "Rating of \"Sonata for Flute or Violin No.4 in C, BWV 1033: 4. Menuet I - II\" in playlist \"nei\" : 3\n"
     ]
    }
   ],
   "source": [
    "col = {\n",
    "    'track_name':[],\n",
    "    'rating': []\n",
    "}\n",
    "\n",
    "for i in range(len(df_multiple_playlists)):\n",
    "    pl = df_multiple_playlists['playlist'][i]\n",
    "    track = df_multiple_playlists['track_name'][i]\n",
    "    col['track_name'].append(track)\n",
    "    rating = input(f'Rating of \"{track}\" in playlist \"{pl}\" : ')\n",
    "    col['rating'].append(rating)\n",
    "        \n",
    "df_ratings = pd.DataFrame(col, columns=['track_name','rating'])\n",
    "df_ratings.to_csv(\"./datasets/test_ratings.csv\", index=True)\n"
   ]
  },
  {
   "cell_type": "code",
   "execution_count": null,
   "metadata": {},
   "outputs": [],
   "source": []
  }
 ],
 "metadata": {
  "kernelspec": {
   "display_name": "Python 3 (ipykernel)",
   "language": "python",
   "name": "python3"
  },
  "language_info": {
   "codemirror_mode": {
    "name": "ipython",
    "version": 3
   },
   "file_extension": ".py",
   "mimetype": "text/x-python",
   "name": "python",
   "nbconvert_exporter": "python",
   "pygments_lexer": "ipython3",
   "version": "3.9.13"
  }
 },
 "nbformat": 4,
 "nbformat_minor": 4
}
